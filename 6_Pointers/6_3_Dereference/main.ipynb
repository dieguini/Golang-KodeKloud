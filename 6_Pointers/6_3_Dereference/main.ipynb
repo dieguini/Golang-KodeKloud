{
 "cells": [
  {
   "attachments": {},
   "cell_type": "markdown",
   "metadata": {},
   "source": [
    "# Dereferencing\n",
    "\n",
    "## Syntaxis\n",
    "\n",
    "```go\n",
    "*<pointer_name>\n",
    "```\n",
    "\n",
    "<ins>Modificar</ins>\n",
    "\n",
    "```go\n",
    "*<pointer_name> = <new_value>\n",
    "```\n",
    "\n",
    "## Modificacion\n",
    "\n",
    "x comenzo con 77"
   ]
  },
  {
   "cell_type": "code",
   "execution_count": null,
   "metadata": {},
   "outputs": [],
   "source": [
    "package main\n",
    "import \"fmt\"\n",
    "\n",
    "func main(){\n",
    "\ts := \"hello\"\n",
    "\tfmt.Printf(\"%T %v \\n\", s, s) //string hello\n",
    "\tps := &s\n",
    "\t*ps = \"world\"\n",
    "\tfmt.Printf(\"%T %v \\n\", s, s) //string hello\n",
    "\n",
    "\tx := 77\n",
    "\tfmt.Printf(\"%T %v \\n\", x, x) //int 77\n",
    "\tps := &x\n",
    "\t*ps = 100\n",
    "\tfmt.Printf(\"%T %v \\n\", x, x) //int 100\n",
    "}\n",
    "main()"
   ]
  },
  {
   "attachments": {},
   "cell_type": "markdown",
   "metadata": {},
   "source": [
    "# Extras\n",
    "\n",
    "## Extra - Array pointer"
   ]
  },
  {
   "cell_type": "code",
   "execution_count": null,
   "metadata": {},
   "outputs": [],
   "source": [
    "package main\n",
    "import \"fmt\"\n",
    "\n",
    "func main() {\n",
    "\ty := [3]int{10, 20, 30}\n",
    "\tpy := &y\n",
    "\tfmt.Printf(\"%T %v \\n\", py, *py) //*[3]int [10 20 30]\n",
    "}\n",
    "main()"
   ]
  },
  {
   "attachments": {},
   "cell_type": "markdown",
   "metadata": {},
   "source": [
    "## Extra - Dereference array"
   ]
  },
  {
   "cell_type": "code",
   "execution_count": null,
   "metadata": {},
   "outputs": [],
   "source": [
    "package main\n",
    "import \"fmt\"\n",
    "\n",
    "func main() {\n",
    "\ty := [3]int{10, 20, 30}\n",
    "\tfmt.Printf(\"%v \\n\", y) //[10 20 30] \n",
    "\t(*&y)[0] = 100\n",
    "\tfmt.Printf(\"%v \\n\", y) //[100 20 30] \n",
    "}\n",
    "main()"
   ]
  },
  {
   "attachments": {},
   "cell_type": "markdown",
   "metadata": {},
   "source": [
    "## Extra - Dereference integer"
   ]
  },
  {
   "cell_type": "code",
   "execution_count": null,
   "metadata": {},
   "outputs": [],
   "source": [
    "package main\n",
    "import \"fmt\"\n",
    "\n",
    "func main() {\n",
    "\tvar y int\n",
    "\tvar ptr *int = &y\n",
    "\n",
    "\t*ptr = 0\n",
    "\tfmt.Println(y) //0\n",
    "\n",
    "\t*ptr += 5\n",
    "\tfmt.Println(y) //5\n",
    "}\n",
    "main()"
   ]
  },
  {
   "attachments": {},
   "cell_type": "markdown",
   "metadata": {},
   "source": [
    "## Extra - Integer null value"
   ]
  },
  {
   "cell_type": "code",
   "execution_count": null,
   "metadata": {},
   "outputs": [],
   "source": [
    "package main\n",
    "import \"fmt\"\n",
    "\n",
    "func main() {\n",
    "\tvar y int\n",
    "\tvar ptr *int = &y\n",
    "\tfmt.Println(y)\t\t// 0\n",
    "\tfmt.Println(*ptr)\t// 0\n",
    "}\n",
    "main()"
   ]
  },
  {
   "attachments": {},
   "cell_type": "markdown",
   "metadata": {},
   "source": [
    "## Extra - String"
   ]
  },
  {
   "cell_type": "code",
   "execution_count": null,
   "metadata": {},
   "outputs": [],
   "source": [
    "package main\n",
    "import (\n",
    "\t\"fmt\"\n",
    "\t\"strings\"\n",
    ")\n",
    "\n",
    "func main() {\n",
    "\ts := \"hello\"\n",
    "\tvar ptr *string = &s\n",
    "\tfmt.Println(s) // hello\n",
    "\t*ptr += strings.ToUpper(s)\n",
    "\tfmt.Println(s) // helloHELLO\n",
    "}\n",
    "main()"
   ]
  }
 ],
 "metadata": {
  "kernelspec": {
   "display_name": "Go",
   "language": "go",
   "name": "gophernotes"
  },
  "language_info": {
   "codemirror_mode": "",
   "file_extension": ".go",
   "mimetype": "",
   "name": "go",
   "nbconvert_exporter": "",
   "pygments_lexer": "",
   "version": "go1.20.1"
  }
 },
 "nbformat": 4,
 "nbformat_minor": 2
}
