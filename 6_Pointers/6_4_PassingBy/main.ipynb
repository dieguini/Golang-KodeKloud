{
 "cells": [
  {
   "attachments": {},
   "cell_type": "markdown",
   "metadata": {},
   "source": [
    "# Passing by\n",
    "\n",
    "## Passing by Value\n",
    "\n",
    "- Pasar la variable como argumento\n",
    "- El parametro se copia en otra locacion de la memoria\n",
    "- Como es otro espacio de memoria entonces no afecta al parametro original\n"
   ]
  },
  {
   "cell_type": "code",
   "execution_count": null,
   "metadata": {},
   "outputs": [],
   "source": [
    "package main\n",
    "import \"fmt\"\n",
    "\n",
    "func modify(s string){\n",
    "\ts = \"world\"\n",
    "}\n",
    "\n",
    "func main() {\n",
    "\ta := \"hello\"\n",
    "\tfmt.Println(a) // hello\n",
    "\tmodify(a)\n",
    "\tfmt.Println(a) // hello\n",
    "}\n",
    "main()"
   ]
  },
  {
   "attachments": {},
   "cell_type": "markdown",
   "metadata": {},
   "source": [
    "## Passing by Reference\n",
    "\n",
    "- Pasar la variable por la referencia\n",
    "- El parametro copia la ubicacion en memoria de la variable\n",
    "- Como es el mismo espacio de memoria si cambia el parametro original"
   ]
  },
  {
   "cell_type": "code",
   "execution_count": null,
   "metadata": {},
   "outputs": [],
   "source": [
    "package main\n",
    "import \"fmt\"\n",
    "\n",
    "func modify(s *string){\n",
    "\t*s = \"world\"\n",
    "}\n",
    "\n",
    "func main() {\n",
    "\ta := \"hello\"\n",
    "\tfmt.Println(a) // hello\n",
    "\tmodify(&a)\n",
    "\tfmt.Println(a) // world\n",
    "}\n",
    "main()"
   ]
  },
  {
   "attachments": {},
   "cell_type": "markdown",
   "metadata": {},
   "source": [
    "### Slices\n",
    "\n",
    "- Estas se pasan como referencia por defecto\n",
    "- Esto pasa por que slice es un espacio de memoria de un array"
   ]
  },
  {
   "cell_type": "code",
   "execution_count": null,
   "metadata": {},
   "outputs": [],
   "source": [
    "package main\n",
    "import \"fmt\"\n",
    "\n",
    "func modify(s []int){\n",
    "\ts[0] = 10000\n",
    "}\n",
    "\n",
    "func main() {\n",
    "\tslice := []int{10,20,30}\n",
    "\tfmt.Println(slice) // [10 20 30]\n",
    "\tmodify(slice)\n",
    "\tfmt.Println(slice) // [10000 20 30]\n",
    "}\n",
    "main()"
   ]
  },
  {
   "attachments": {},
   "cell_type": "markdown",
   "metadata": {},
   "source": [
    "### Maps\n",
    "\n",
    "- De igual forma que los slices"
   ]
  },
  {
   "cell_type": "code",
   "execution_count": null,
   "metadata": {},
   "outputs": [],
   "source": [
    "package main\n",
    "import \"fmt\"\n",
    "\n",
    "func modify(m map[string]int){\n",
    "\tm[\"C\"] = 30\n",
    "}\n",
    "\n",
    "func main() {\n",
    "\tmaps := make(map[string]int)\n",
    "\tmaps[\"A\"] = 10\n",
    "\tmaps[\"B\"] = 20\n",
    "\tfmt.Println(maps) // map[A:10 B:20]\n",
    "\tmodify(maps)\n",
    "\tfmt.Println(maps) // map[A:10 B:20 C:30]\n",
    "}\n",
    "main()"
   ]
  }
 ],
 "metadata": {
  "kernelspec": {
   "display_name": "Go",
   "language": "go",
   "name": "gophernotes"
  },
  "language_info": {
   "codemirror_mode": "",
   "file_extension": ".go",
   "mimetype": "",
   "name": "go",
   "nbconvert_exporter": "",
   "pygments_lexer": "",
   "version": "go1.20.1"
  }
 },
 "nbformat": 4,
 "nbformat_minor": 2
}
