{
 "cells": [
  {
   "attachments": {},
   "cell_type": "markdown",
   "metadata": {},
   "source": [
    "# Address and Dereference Operator\n",
    "\n",
    "- **& operator**: Asi se puede obtener la _direccion_ de una variable (_&_)\n",
    "- **\\* operator**: Obtiene el valor de la _direccion_ (_*_ osea _*0x0300_)"
   ]
  },
  {
   "cell_type": "code",
   "execution_count": null,
   "metadata": {},
   "outputs": [],
   "source": [
    "package main\n",
    "import \"fmt\"\n",
    "\n",
    "func main()  {\n",
    "\tx := 77\n",
    "\tfmt.Printf(\"%T %v \\n\", &x, &x)\t\t\t//*int 0xc000039330=>este varia \n",
    "\tfmt.Printf(\"%T %v \\n\", *(&x), *(&x))\t//int 77 \n",
    "}\n",
    "main()"
   ]
  }
 ],
 "metadata": {
  "kernelspec": {
   "display_name": "Go",
   "language": "go",
   "name": "gophernotes"
  },
  "language_info": {
   "codemirror_mode": "",
   "file_extension": ".go",
   "mimetype": "",
   "name": "go",
   "nbconvert_exporter": "",
   "pygments_lexer": "",
   "version": "go1.20.1"
  }
 },
 "nbformat": 4,
 "nbformat_minor": 2
}
