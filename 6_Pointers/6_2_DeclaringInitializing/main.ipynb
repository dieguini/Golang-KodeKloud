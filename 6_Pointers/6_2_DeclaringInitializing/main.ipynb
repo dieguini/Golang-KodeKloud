{
 "cells": [
  {
   "attachments": {},
   "cell_type": "markdown",
   "metadata": {},
   "source": [
    "# Declaring and Initialising\n",
    "\n",
    "## Declaring\n",
    "\n",
    "### Synax\n",
    "\n",
    "```go\n",
    "var <pointer_name> *<data_type>\n",
    "```\n",
    "\n",
    "- \\*:  Para declarar el pointer, no es lo mismo que Address and Dereference Operator (Dereference)\n",
    "\n",
    "```go\n",
    "var ptr_x *int\n",
    "```\n",
    "\n",
    "```go\n",
    "var ptr_str *string\n",
    "```"
   ]
  },
  {
   "cell_type": "code",
   "execution_count": null,
   "metadata": {},
   "outputs": [],
   "source": [
    "package main\n",
    "import \"fmt\"\n",
    "\n",
    "func main() {\n",
    "\tvar ptr_x *int\n",
    "\tvar ptr_str *string\n",
    "\tfmt.Println(ptr_x)  //<nil>\n",
    "\tfmt.Println(ptr_str)//<nil>\n",
    "}\n",
    "main()"
   ]
  },
  {
   "attachments": {},
   "cell_type": "markdown",
   "metadata": {},
   "source": [
    "## Initializing\n",
    "\n",
    "### Method 1\n",
    "\n",
    "```go\n",
    "var <pointer_name> *<data_type> = &<variable_name>\n",
    "```\n",
    "\n",
    "```go\n",
    "x := 5\n",
    "var ptr_x *int = &x\n",
    "```\n",
    "\n",
    "### Method 2\n",
    "\n",
    "El _*<data_type>_ sera obtenido a traves del compilador, por eso ya no esta\n",
    "\n",
    "```go\n",
    "var <pointer_name> = &<variable_name>\n",
    "```\n",
    "\n",
    "```go\n",
    "x := 5\n",
    "var ptr_x = &x\n",
    "```\n",
    "\n",
    "### Method 3\n",
    "\n",
    "```go\n",
    "<pointer_name> := &<variable_name>\n",
    "```\n",
    "\n",
    "```go\n",
    "x := 5\n",
    "ptr_x := &x\n",
    "```\n",
    "\n"
   ]
  },
  {
   "cell_type": "code",
   "execution_count": null,
   "metadata": {},
   "outputs": [],
   "source": [
    "package main\n",
    "import \"fmt\"\n",
    "\n",
    "func main() {\n",
    "\ts := \"hello\"\n",
    "\t\n",
    "\tvar ptr_s_method1 *string = &s\n",
    "\tfmt.Println(ptr_s_method1) //0xc000791530 => random\n",
    "\tvar ptr_s_method2 = &s\n",
    "\tfmt.Println(ptr_s_method2) //0xc000791530 => random\n",
    "\tptr_s_method3 := &s\n",
    "\tfmt.Println(ptr_s_method3) //0xc000791530 => random\n",
    "}\n",
    "main()"
   ]
  }
 ],
 "metadata": {
  "kernelspec": {
   "display_name": "Go",
   "language": "go",
   "name": "gophernotes"
  },
  "language_info": {
   "codemirror_mode": "",
   "file_extension": ".go",
   "mimetype": "",
   "name": "go",
   "nbconvert_exporter": "",
   "pygments_lexer": "",
   "version": "go1.20.1"
  }
 },
 "nbformat": 4,
 "nbformat_minor": 2
}
