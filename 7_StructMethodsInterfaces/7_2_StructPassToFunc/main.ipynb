{
 "cells": [
  {
   "attachments": {},
   "cell_type": "markdown",
   "metadata": {},
   "source": [
    "# Struct to Functions\n",
    "\n",
    "Igual funciona pasar como valor o referencia"
   ]
  },
  {
   "cell_type": "code",
   "execution_count": null,
   "metadata": {},
   "outputs": [],
   "source": [
    "package main\n",
    "import \"fmt\"\n",
    "\n",
    "type Circle struct {\n",
    "\tx int\n",
    "\ty int\n",
    "\tradious float64\n",
    "\tarea float64\n",
    "}\n",
    "\n",
    "func calcAreaByValue(c Circle){\n",
    "\tconst PI float64 = 3.14\n",
    "\tvar area float64\n",
    "\tarea = (PI * c.radious * c.radious)\n",
    "\tc.area = area\n",
    "}\n",
    "\n",
    "func calcAreaByReference(c *Circle){\n",
    "\tconst PI float64 = 3.14\n",
    "\tvar area float64\n",
    "\tarea = (PI * c.radious * c.radious)\n",
    "\t(*c).area = area\n",
    "}\n",
    "\n",
    "func main() {\n",
    "\tc := Circle { x:5, y:6, radious:7, area:0}\n",
    "\tfmt.Printf(\"%+v\\n\", c) // {𒀸x:5 𒀸y:6 𒀸radious:7 𒀸area:0}\n",
    "\t\n",
    "\tcalcAreaByValue(c)\n",
    "\tfmt.Printf(\"%+v\\n\", c) // {𒀸x:5 𒀸y:6 𒀸radious:7 𒀸area:0}\n",
    "\n",
    "\tcalcAreaByReference(&c)\n",
    "\tfmt.Printf(\"%+v\\n\", c) // {𒀸x:5 𒀸y:6 𒀸radious:7 𒀸area:153.86}\n",
    "}\n",
    "main()"
   ]
  },
  {
   "attachments": {},
   "cell_type": "markdown",
   "metadata": {},
   "source": [
    "## Examples\n",
    "\n",
    "### Example - Initializing in function"
   ]
  },
  {
   "cell_type": "code",
   "execution_count": null,
   "metadata": {},
   "outputs": [],
   "source": [
    "package main\n",
    "import \"fmt\"\n",
    "\n",
    "type Movie struct {\n",
    "\tname   string\n",
    "\trating float32\n",
    "}\n",
    "\n",
    "func getMovie(s string, r float32) (m Movie) {\n",
    "\tm = Movie{\n",
    "\t\tname:   s,\n",
    "\t\trating: r,\n",
    "\t}\n",
    "\treturn\n",
    "}\n",
    "\n",
    "func main() {\n",
    "\tfmt.Printf(\"%+v\", getMovie(\"xyz\", 3.5)) // {𒀸name:xyz 𒀸rating:3.5}\n",
    "}\n",
    "main()"
   ]
  },
  {
   "attachments": {},
   "cell_type": "markdown",
   "metadata": {},
   "source": [
    "### Example - Initialize in func and append"
   ]
  },
  {
   "cell_type": "code",
   "execution_count": null,
   "metadata": {},
   "outputs": [],
   "source": [
    "package main\n",
    "import \"fmt\"\n",
    "\n",
    "type Movie struct {\n",
    "\tname   string\n",
    "\trating float32\n",
    "}\n",
    "\n",
    "func getMovie(s string, r float32) (m Movie) {\n",
    "\tm = Movie{\n",
    "\t\t\tname:   s,\n",
    "\t\t\trating: r,\n",
    "\t}\n",
    "\treturn\n",
    "}\n",
    "\n",
    "func main() {\n",
    "\tmov := getMovie(\"xyz\", 2.1)\n",
    "\tmov1 := getMovie(\"abc\", 3.3)\n",
    "\tmovies := make([]Movie, 5)\n",
    "\tmovies = append(movies, mov)\n",
    "\tmovies = append(movies, mov1)\n",
    "\tfor _, value := range movies {\n",
    "\t\t\tfmt.Println(value)\n",
    "\t}\n",
    "}\n",
    "main()\n",
    "\n",
    "// { 0}\n",
    "// { 0}\n",
    "// { 0}\n",
    "// { 0}\n",
    "// { 0}\n",
    "// {xyz 2.1}\n",
    "// {abc 3.3}"
   ]
  }
 ],
 "metadata": {
  "kernelspec": {
   "display_name": "Go",
   "language": "go",
   "name": "gophernotes"
  },
  "language_info": {
   "codemirror_mode": "",
   "file_extension": ".go",
   "mimetype": "",
   "name": "go",
   "nbconvert_exporter": "",
   "pygments_lexer": "",
   "version": "go1.20.1"
  }
 },
 "nbformat": 4,
 "nbformat_minor": 2
}
