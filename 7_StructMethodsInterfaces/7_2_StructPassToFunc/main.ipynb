{
 "cells": [
  {
   "attachments": {},
   "cell_type": "markdown",
   "metadata": {},
   "source": [
    "# Struct to Functions\n",
    "\n",
    "Igual funciona pasar como valor o referencia"
   ]
  },
  {
   "cell_type": "code",
   "execution_count": null,
   "metadata": {},
   "outputs": [],
   "source": [
    "package main\n",
    "import \"fmt\"\n",
    "\n",
    "type Circle struct {\n",
    "\tx int\n",
    "\ty int\n",
    "\tradious float64\n",
    "\tarea float64\n",
    "}\n",
    "\n",
    "func calcAreaByValue(c Circle){\n",
    "\tconst PI float64 = 3.14\n",
    "\tvar area float64\n",
    "\tarea = (PI * c.radious * c.radious)\n",
    "\tc.area = area\n",
    "}\n",
    "\n",
    "func calcAreaByReference(c *Circle){\n",
    "\tconst PI float64 = 3.14\n",
    "\tvar area float64\n",
    "\tarea = (PI * c.radious * c.radious)\n",
    "\t(*c).area = area\n",
    "}\n",
    "\n",
    "func main() {\n",
    "\tc := Circle { x:5, y:6, radious:7, area:0}\n",
    "\tfmt.Printf(\"%+v\\n\", c) // {𒀸x:5 𒀸y:6 𒀸radious:7 𒀸area:0}\n",
    "\t\n",
    "\tcalcAreaByValue(c)\n",
    "\tfmt.Printf(\"%+v\\n\", c) // {𒀸x:5 𒀸y:6 𒀸radious:7 𒀸area:0}\n",
    "\n",
    "\tcalcAreaByReference(&c)\n",
    "\tfmt.Printf(\"%+v\\n\", c) // {𒀸x:5 𒀸y:6 𒀸radious:7 𒀸area:153.86}\n",
    "}\n",
    "main()"
   ]
  }
 ],
 "metadata": {
  "kernelspec": {
   "display_name": "Go",
   "language": "go",
   "name": "gophernotes"
  },
  "language_info": {
   "codemirror_mode": "",
   "file_extension": ".go",
   "mimetype": "",
   "name": "go",
   "nbconvert_exporter": "",
   "pygments_lexer": "",
   "version": "go1.20.1"
  }
 },
 "nbformat": 4,
 "nbformat_minor": 2
}
