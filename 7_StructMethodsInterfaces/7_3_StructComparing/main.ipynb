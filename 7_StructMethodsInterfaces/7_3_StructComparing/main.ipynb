{
 "cells": [
  {
   "attachments": {},
   "cell_type": "markdown",
   "metadata": {},
   "source": [
    "# Struct Comparing\n",
    "\n",
    "`==` and `!=`"
   ]
  },
  {
   "attachments": {},
   "cell_type": "markdown",
   "metadata": {},
   "source": [
    "## Struct con otra struct\n",
    "\n",
    "No se puede comparar una _struct_ con otra"
   ]
  },
  {
   "cell_type": "code",
   "execution_count": null,
   "metadata": {},
   "outputs": [],
   "source": [
    "package main\n",
    "import \"fmt\"\n",
    "\n",
    "type s1 struct {\n",
    "\tx int\n",
    "}\n",
    "\n",
    "type s2 struct {\n",
    "\tx int\n",
    "}\n",
    "\n",
    "func main() {\n",
    "\ta1 := s1 { x:2 }\n",
    "\ta2 := s2 { x:2 }\n",
    "\tif a1 == a2 { // Error: mismatch types\n",
    "\t\tfmt.Println(\"Iguales\")\n",
    "\t}\n",
    "}\n",
    "main()"
   ]
  },
  {
   "attachments": {},
   "cell_type": "markdown",
   "metadata": {},
   "source": [
    "## Struct con misma struct"
   ]
  },
  {
   "cell_type": "code",
   "execution_count": null,
   "metadata": {},
   "outputs": [],
   "source": [
    "package main\n",
    "import \"fmt\"\n",
    "\n",
    "type s1 struct {\n",
    "\tx int\n",
    "}\n",
    "\n",
    "func main() {\n",
    "\ta1 := s1 { x:2 }\n",
    "\ta2 := s1 { x:2 }\n",
    "\ta3 := s1 { x:4 }\n",
    "\t\n",
    "\tif a1 == a2 {\n",
    "\t\tfmt.Println(\"a1 == a2\") // Entra\n",
    "\t}\n",
    "\tif a1 == a3 {\n",
    "\t\tfmt.Println(\"a1 == a3\") // No entra\n",
    "\t}\n",
    "\tif a1 != a3 {\n",
    "\t\tfmt.Println(\"a1 != a3\") // Entra\n",
    "\t}\n",
    "}\n",
    "main()"
   ]
  },
  {
   "attachments": {},
   "cell_type": "markdown",
   "metadata": {},
   "source": [
    "## Ejemplo\n",
    "\n",
    "Otro ejemplo"
   ]
  },
  {
   "cell_type": "code",
   "execution_count": null,
   "metadata": {},
   "outputs": [],
   "source": [
    "package main\n",
    "import \"fmt\"\n",
    "\n",
    "type Movie struct {\n",
    "\tname   string\n",
    "\trating float32\n",
    "}\n",
    "\n",
    "func main() {\n",
    "\tmov := Movie{\"xyz\", 2.1}\n",
    "\tmov1 := Movie{\"abc\", 2.1}\n",
    "\tif mov.rating == mov1.rating || mov != mov1 {\n",
    "\t\t\tfmt.Println(\"condition met\")\n",
    "\t} else if mov.rating == mov1.rating {\n",
    "\t\t\tfmt.Println(\"condition_2 met\")\n",
    "\t}\n",
    "}\n",
    "main()\n",
    "// condition met"
   ]
  }
 ],
 "metadata": {
  "kernelspec": {
   "display_name": "Go",
   "language": "go",
   "name": "gophernotes"
  },
  "language_info": {
   "codemirror_mode": "",
   "file_extension": ".go",
   "mimetype": "",
   "name": "go",
   "nbconvert_exporter": "",
   "pygments_lexer": "",
   "version": "go1.20.1"
  }
 },
 "nbformat": 4,
 "nbformat_minor": 2
}
