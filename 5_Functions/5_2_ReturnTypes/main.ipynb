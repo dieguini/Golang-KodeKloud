{
 "cells": [
  {
   "attachments": {},
   "cell_type": "markdown",
   "metadata": {},
   "source": [
    "# Return Types\n",
    "\n",
    "Existen mas formas de devolver valores\n",
    "\n",
    "- Multiple\n",
    "- Variadic\n",
    "- Named"
   ]
  },
  {
   "attachments": {},
   "cell_type": "markdown",
   "metadata": {},
   "source": [
    "## Multiple"
   ]
  },
  {
   "cell_type": "code",
   "execution_count": null,
   "metadata": {},
   "outputs": [],
   "source": [
    "package main\n",
    "import \"fmt\"\n",
    "\n",
    "func operation(a int, b int) (int, int)  {\n",
    "\tsum := a + b\n",
    "\tdiff := a - b\n",
    "\treturn sum, diff\n",
    "}\n",
    "\n",
    "func main() {\n",
    "\tsum, diff := operation(55, 66)\n",
    "\tfmt.Println(sum, diff) //121 -11\n",
    "}\n",
    "main()"
   ]
  },
  {
   "cell_type": "code",
   "execution_count": null,
   "metadata": {},
   "outputs": [],
   "source": [
    "package main\n",
    "import \"fmt\"\n",
    "\n",
    "func operation(a int, b int) (sum int, diff int)  {\n",
    "\tsum = a + b\t\t// Ya no hay \"shorthand operator\"\n",
    "\tdiff = a - b\t// Ya no hay \"shorthand operator\"\n",
    "\treturn \t\t\t// Aqui ya no decimos que devolver\n",
    "}\n",
    "\n",
    "func main() {\n",
    "\tsum, diff := operation(55, 66)\n",
    "\tfmt.Println(sum, diff) //121 -11\n",
    "}\n",
    "main()"
   ]
  },
  {
   "attachments": {},
   "cell_type": "markdown",
   "metadata": {},
   "source": [
    "## Variadic\n",
    "\n",
    "Pasar parametros variables\n",
    "\n",
    "- Para declarar una funcion el ultimo parametro debe ser `...`\n",
    "\n",
    "### Syntax\n",
    "\n",
    "```go\n",
    "func <func_name>(param-1 type, param-2 type, para-3 ...type) <return_type>\n",
    "```\n",
    "\n",
    "<ins>Example 1</ins>\n",
    "\n",
    "```go\n",
    "func sumNumbers(numbers ...int) int\n",
    "```\n",
    "\n",
    "<ins>Example 2</ins>\n",
    "\n",
    "```go\n",
    "func sumNumbers(str string, numbers ...int) int\n",
    "```"
   ]
  },
  {
   "cell_type": "code",
   "execution_count": null,
   "metadata": {},
   "outputs": [],
   "source": [
    "package main\n",
    "import \"fmt\"\n",
    "\n",
    "func sumNumbers(numbers ...int) int {\n",
    "\tsum := 0\n",
    "\tfor _, value := range numbers {\n",
    "\t\tsum += value\n",
    "\t}\n",
    "\n",
    "\treturn sum\n",
    "}\n",
    "\n",
    "func main() {\n",
    "\tfmt.Println(sumNumbers()) // 0\n",
    "\tfmt.Println(sumNumbers(5)) // 5\n",
    "\tfmt.Println(sumNumbers(3,4,5,6)) // 18\n",
    "\tfmt.Println(sumNumbers(12,12,12,13,13,13,14,14)) // 103\n",
    "}\n",
    "main()"
   ]
  },
  {
   "cell_type": "code",
   "execution_count": null,
   "metadata": {},
   "outputs": [],
   "source": [
    "package main\n",
    "import \"fmt\"\n",
    "\n",
    "func printDetails(student string, subjects ...string) {\n",
    "\tfmt.Println(\"Hola \", student, \", estos son los temas: \")\n",
    "\tfor _, value := range subjects {\n",
    "\t\tfmt.Printf(\"%s, \", value)\n",
    "\t}\n",
    "}\n",
    "\n",
    "func main() {\n",
    "\tprintDetails(\"Diego\", \"Go\", \"Kubernetes\", \"Docker\")\n",
    "}\n",
    "main()"
   ]
  },
  {
   "attachments": {},
   "cell_type": "markdown",
   "metadata": {},
   "source": [
    "## Blank Identifier\n",
    "\n",
    "`_` ayuda cuando una funcion devuelve valores y solo quieres uno de ellos"
   ]
  },
  {
   "cell_type": "code",
   "execution_count": null,
   "metadata": {},
   "outputs": [],
   "source": [
    "package main\n",
    "import \"fmt\"\n",
    "\n",
    "func testFun() (int, int)  {\n",
    "\treturn 2, 3\n",
    "}\n",
    "\n",
    "func main() {\n",
    "\t_, v := testFun()\n",
    "\tfmt.Println(v) // 3\n",
    "}\n",
    "main()"
   ]
  },
  {
   "attachments": {},
   "cell_type": "markdown",
   "metadata": {},
   "source": [
    "## Examples\n",
    "\n",
    "### Example - Squares in array"
   ]
  },
  {
   "cell_type": "code",
   "execution_count": null,
   "metadata": {},
   "outputs": [],
   "source": [
    "package main\n",
    "import \"fmt\"\n",
    "\n",
    "func calcSquare(numbers []int) []int {\n",
    "\tsquares := []int{}\n",
    "\tfor _, v := range numbers {\n",
    "\t\t\tsquares = append(squares, v*v)\n",
    "\t}\n",
    "\treturn squares\n",
    "\n",
    "}\n",
    "\n",
    "func main() {\n",
    "\tnums := [3]int{10, 20, 15}\n",
    "\tfmt.Println(calcSquare(nums[:])) // [100 400 225]\n",
    "}\n",
    "main()"
   ]
  },
  {
   "attachments": {},
   "cell_type": "markdown",
   "metadata": {},
   "source": [
    "### Example - Square y bool"
   ]
  },
  {
   "cell_type": "code",
   "execution_count": null,
   "metadata": {},
   "outputs": [],
   "source": [
    "package main\n",
    "import \"fmt\"\n",
    "\n",
    "func calcSquare(numbers []int) ([]int, bool) {\n",
    "\tsquares := []int{}\n",
    "\tfor _, v := range numbers {\n",
    "\t\t\tsquares = append(squares, v*v)\n",
    "\t}\n",
    "\treturn squares, true\n",
    "\n",
    "}\n",
    "\n",
    "func main() {\n",
    "\tnums := [3]int{10, 20, 15}\n",
    "\tfmt.Println(calcSquare(nums[:])) // [100 400 225] true\n",
    "}\n",
    "main()"
   ]
  },
  {
   "attachments": {},
   "cell_type": "markdown",
   "metadata": {},
   "source": [
    "### Example - Strings, array, return"
   ]
  },
  {
   "cell_type": "code",
   "execution_count": null,
   "metadata": {},
   "outputs": [],
   "source": [
    "package main\n",
    "import (\n",
    "    \"fmt\"\n",
    "    \"strings\"\n",
    ")\n",
    "\n",
    "func printStrings(names ...string) (names_c []string) {\n",
    "\tfor _, value := range names {\n",
    "\t\tnames_c = append(names_c, strings.ToUpper(value))\n",
    "\t}\n",
    "\treturn\n",
    "}\n",
    "\n",
    "func main() {\n",
    "\tnames := printStrings(\"Joe\", \"Monica\", \"Gunther\")\n",
    "\tfmt.Println(names) // [JOE MONICA GUNTHER]\n",
    "}\n",
    "main()"
   ]
  }
 ],
 "metadata": {
  "kernelspec": {
   "display_name": "Go",
   "language": "go",
   "name": "gophernotes"
  },
  "language_info": {
   "codemirror_mode": "",
   "file_extension": ".go",
   "mimetype": "",
   "name": "go",
   "nbconvert_exporter": "",
   "pygments_lexer": "",
   "version": "go1.20.1"
  }
 },
 "nbformat": 4,
 "nbformat_minor": 2
}
