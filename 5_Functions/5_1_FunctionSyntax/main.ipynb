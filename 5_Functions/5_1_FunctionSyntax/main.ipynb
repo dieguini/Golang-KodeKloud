{
 "cells": [
  {
   "attachments": {},
   "cell_type": "markdown",
   "metadata": {},
   "source": [
    "# Function Syntaxs\n",
    "\n",
    "## Syntaxis\n",
    "\n",
    "```go\n",
    "func <function_name>(<params>) <return_type>{\n",
    "\t// body\n",
    "}\n",
    "```\n",
    "\n",
    "<ins>Example</ins>\n",
    "\n",
    "```go\n",
    "func addTwoNumbers(a int,b int) int{\n",
    "\tsum := a + b\n",
    "    return sum\n",
    "}\n",
    "```\n",
    "\n",
    "## Calling\n",
    "\n",
    "```go\n",
    "<function_name>(<params>)\n",
    "```\n",
    "\n",
    "```go\n",
    "addTwoNumbers(4, 5)\n",
    "```\n",
    "\n",
    "```go\n",
    "sumOfTwoNumbers := addTwoNumbers(4, 5)\n",
    "```\n",
    "\n",
    "## Naming Conventions\n",
    "\n",
    "- Debe comenzar con letras `2add` => ❌ `add_2` => ✅\n",
    "- Sin espacios\n",
    "- Case sensitive"
   ]
  },
  {
   "cell_type": "code",
   "execution_count": null,
   "metadata": {},
   "outputs": [],
   "source": [
    "package main\n",
    "import \"fmt\"\n",
    "\n",
    "func printGoodMorning(str string)  {\n",
    "\tfmt.Println(\"Good morning\", str)\n",
    "}\n",
    "\n",
    "func main() {\n",
    "\tprintGoodMorning(\"Diego\")\n",
    "}\n",
    "main()"
   ]
  },
  {
   "attachments": {},
   "cell_type": "markdown",
   "metadata": {},
   "source": [
    "## Another Example"
   ]
  },
  {
   "cell_type": "code",
   "execution_count": null,
   "metadata": {},
   "outputs": [],
   "source": [
    "package main\n",
    "import \"fmt\"\n",
    "\n",
    "func returnCube(a int)int{\n",
    "\treturn a*a*a\n",
    "}\n",
    "func main(){\n",
    "\tcubeReturn := returnCube(4)\n",
    "\tfmt.Println(cubeReturn) // 64\n",
    "}\n",
    "main()"
   ]
  }
 ],
 "metadata": {
  "kernelspec": {
   "display_name": "Go",
   "language": "go",
   "name": "gophernotes"
  },
  "language_info": {
   "codemirror_mode": "",
   "file_extension": ".go",
   "mimetype": "",
   "name": "go",
   "nbconvert_exporter": "",
   "pygments_lexer": "",
   "version": "go1.20.1"
  }
 },
 "nbformat": 4,
 "nbformat_minor": 2
}
