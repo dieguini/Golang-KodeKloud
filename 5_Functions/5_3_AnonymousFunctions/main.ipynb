{
 "cells": [
  {
   "attachments": {},
   "cell_type": "markdown",
   "metadata": {},
   "source": [
    "# Anonymous Functions\n",
    "\n",
    "- Una función anónima es una función que no tiene un nombre específico para referirse a ella.\n",
    "- Puede recibir datos de entrada y devolver resultados, como una funcion normal.\n",
    "- Se utilizan para agrupar tareas que no necesitan un nombre y que posiblemente se utilicen solo temporalmente."
   ]
  },
  {
   "cell_type": "code",
   "execution_count": null,
   "metadata": {},
   "outputs": [],
   "source": [
    "package main\n",
    "import \"fmt\"\n",
    "\n",
    "func main() {\n",
    "\tx := func (a int, b int)int  {\n",
    "\t\treturn a*b\n",
    "\t}\n",
    "\tfmt.Printf(\"%T \\n\", x)\t// func(int, int) int \n",
    "\tfmt.Println(x(20,30))\t//600\n",
    "\n",
    "\ty := func (a int, b int)int  {\n",
    "\t\treturn a*b\n",
    "\t}(10,40)\n",
    "\n",
    "\tfmt.Printf(\"%T \\n\", y)\t// int\n",
    "\tfmt.Println(y)\t\t\t//400\n",
    "}\n",
    "main()"
   ]
  },
  {
   "attachments": {},
   "cell_type": "markdown",
   "metadata": {},
   "source": [
    "## Declarations\n",
    "\n",
    "### Rigth Declarations\n",
    "\n",
    "```go\n",
    "var my_func := (func(s string) {fmt.Println(\"Hey there,\", s)})\n",
    "```\n",
    "\n",
    "```go\n",
    "var my_func func := (func(s string) {fmt.Println(\"Hey there,\", s)})\n",
    "```\n",
    "\n",
    "### Wrong Declarations\n",
    "\n",
    "```go\n",
    "var (my_func = func(s string) {fmt.Println(\"Hey there,\", s)})\n",
    "```\n",
    "\n",
    "```go\n",
    "func main() {\n",
    "        var (\n",
    "                my_func = func(s string) { fmt.Println(\"Hey there,\", s) }\n",
    "        )\n",
    "        my_func(\"Joe\")\n",
    "}\n",
    "```"
   ]
  },
  {
   "attachments": {},
   "cell_type": "markdown",
   "metadata": {},
   "source": [
    "## Example\n",
    "\n",
    "### Example - Complex Cube"
   ]
  },
  {
   "cell_type": "code",
   "execution_count": null,
   "metadata": {},
   "outputs": [],
   "source": [
    "package main\n",
    "\n",
    "import (\n",
    "\t\"fmt\"\n",
    "\t\"strconv\"\n",
    ")\n",
    "\n",
    "var (\n",
    "\tcube = func(i int) string {\n",
    "\t\tc := i * i * i\n",
    "\t\treturn strconv.Itoa(c)\n",
    "\t}\n",
    ")\n",
    "\n",
    "func main() {\n",
    "\tx := cube(8)\n",
    "\tfmt.Printf(\"%T %v\", x, x) // string 512\n",
    "}\n",
    "main()"
   ]
  }
 ],
 "metadata": {
  "kernelspec": {
   "display_name": "Go",
   "language": "go",
   "name": "gophernotes"
  },
  "language_info": {
   "codemirror_mode": "",
   "file_extension": ".go",
   "mimetype": "",
   "name": "go",
   "nbconvert_exporter": "",
   "pygments_lexer": "",
   "version": "go1.20.1"
  }
 },
 "nbformat": 4,
 "nbformat_minor": 2
}
