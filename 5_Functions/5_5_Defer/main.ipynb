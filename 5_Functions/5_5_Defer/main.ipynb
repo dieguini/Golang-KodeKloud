{
 "cells": [
  {
   "attachments": {},
   "cell_type": "markdown",
   "metadata": {},
   "source": [
    "# Defer Statement\n",
    "\n",
    "- La funcion se evalua inmediatamente\n",
    "- La funcion espera hasta que la funcion que lo rodea retorne"
   ]
  },
  {
   "cell_type": "code",
   "execution_count": null,
   "metadata": {},
   "outputs": [],
   "source": [
    "package main\n",
    "import \"fmt\"\n",
    "\n",
    "func main() {\n",
    "\tdefer fmt.Println(\"World\")\n",
    "\tfmt.Println(\"Hello\")\n",
    "}\n",
    "main()\n",
    "//Hello\n",
    "//World"
   ]
  },
  {
   "cell_type": "code",
   "execution_count": null,
   "metadata": {},
   "outputs": [],
   "source": [
    "package main\n",
    "import \"fmt\"\n",
    "\n",
    "func main() {\n",
    "\tdefer fmt.Println(\"World\")\n",
    "\tdefer fmt.Println(\"Another\")\n",
    "\tdefer fmt.Println(\"To\")\n",
    "\tfmt.Println(\"Welcome\")\n",
    "}\n",
    "main()\n",
    "// Welcome\n",
    "// To\n",
    "// Another\n",
    "// World"
   ]
  }
 ],
 "metadata": {
  "kernelspec": {
   "display_name": "Go",
   "language": "go",
   "name": "gophernotes"
  },
  "language_info": {
   "codemirror_mode": "",
   "file_extension": ".go",
   "mimetype": "",
   "name": "go",
   "nbconvert_exporter": "",
   "pygments_lexer": "",
   "version": "go1.20.1"
  }
 },
 "nbformat": 4,
 "nbformat_minor": 2
}
