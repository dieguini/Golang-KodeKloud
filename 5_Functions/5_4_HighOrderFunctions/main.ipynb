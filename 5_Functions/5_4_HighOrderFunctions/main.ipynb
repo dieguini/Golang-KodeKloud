{
 "cells": [
  {
   "attachments": {},
   "cell_type": "markdown",
   "metadata": {},
   "source": [
    "# High Order Functions\n",
    "\n",
    "Esta funcion o toma una funcion como argumento o devuelve una funcion\n",
    "\n",
    "## Usage\n",
    "\n",
    "- Composicion\n",
    "\t- **Pequeñas funciones** que se encarguen de cierta logica\n",
    "\t- Crear funciones complejas con diferentes **funciones pequeñas**\n",
    "- Reducir bugs, cuando es modular es facil encontrar fallas\n",
    "- Facil de leer y entender\n",
    "\n",
    "## Caso de uso\n",
    "\n",
    "Calcular parametros del circulo\n",
    "\n",
    "### Sin Funciones de Alto Nivel\n",
    "\n",
    "\n",
    "[Ver go script] **without_hf.go**\n",
    "\n",
    "### Con Funciones de Alto Nivel\n",
    "\n",
    "[Ver go script] **with_hf.go**\n"
   ]
  },
  {
   "attachments": {},
   "cell_type": "markdown",
   "metadata": {},
   "source": [
    "## Ejemplos\n",
    "\n",
    "### Ejemplo - Funcion Suma 100"
   ]
  },
  {
   "cell_type": "code",
   "execution_count": null,
   "metadata": {},
   "outputs": [],
   "source": [
    "package main\n",
    "\n",
    "import \"fmt\"\n",
    "\n",
    "func addHundred(x int) int {\n",
    "        return x + 100\n",
    "}\n",
    "func partialSum(x ...int) func() {\n",
    "        sum := 0\n",
    "        for _, value := range x {\n",
    "                sum += value\n",
    "        }\n",
    "        return func() {\n",
    "                fmt.Println(addHundred(sum))\n",
    "        }\n",
    "}\n",
    "func main() {\n",
    "        partial := partialSum(1, 2, 3, 4, 5)\n",
    "        partial() // 115\n",
    "}\n",
    "main()"
   ]
  },
  {
   "attachments": {},
   "cell_type": "markdown",
   "metadata": {},
   "source": [
    "### Ejemplo - Resultado Vacio"
   ]
  },
  {
   "cell_type": "code",
   "execution_count": null,
   "metadata": {},
   "outputs": [],
   "source": [
    "package main\n",
    "\n",
    "func addHundred(x int) int {\n",
    "        return x + 100\n",
    "}\n",
    "func partialSum(x ...int) func() int {\n",
    "        sum := 0\n",
    "        for _, value := range x {\n",
    "                sum += value\n",
    "        }\n",
    "        return func() int {\n",
    "                return addHundred(sum)\n",
    "        }\n",
    "}\n",
    "func main() {\n",
    "        partial := partialSum(1, 2, 3)\n",
    "        partial() // No hay resultado (Vacio)\n",
    "}\n",
    "main()"
   ]
  },
  {
   "attachments": {},
   "cell_type": "markdown",
   "metadata": {},
   "source": [
    "### Ejemplo - Envio de funcion"
   ]
  },
  {
   "cell_type": "code",
   "execution_count": null,
   "metadata": {},
   "outputs": [],
   "source": [
    "package main\n",
    "\n",
    "import \"fmt\"\n",
    "\n",
    "func addHundred(x int) int {\n",
    "        return x + 100\n",
    "}\n",
    "func partialSum(add100 func(x int) int, x ...int) int {\n",
    "        sum := 0\n",
    "        for _, value := range x {\n",
    "                sum += value\n",
    "        }\n",
    "        return add100(sum)\n",
    "\n",
    "}\n",
    "func main() {\n",
    "        partial := partialSum(addHundred, 1, 2, 3)\n",
    "        fmt.Println(partial) // 106\n",
    "}\n",
    "main()"
   ]
  },
  {
   "attachments": {},
   "cell_type": "markdown",
   "metadata": {},
   "source": [
    "### Ejemplo - Resultado doble"
   ]
  },
  {
   "cell_type": "code",
   "execution_count": null,
   "metadata": {},
   "outputs": [],
   "source": [
    "package main\n",
    "\n",
    "import \"fmt\"\n",
    "\n",
    "func addHundred(x int) {\n",
    "        fmt.Println(x + 100)\n",
    "}\n",
    "func partialSum(add100 func(x int), x ...int) int {\n",
    "        sum := 0\n",
    "        for _, value := range x {\n",
    "                sum += value\n",
    "        }\n",
    "        add100(sum)\n",
    "        return 0\n",
    "}\n",
    "func main() {\n",
    "        partial := partialSum(addHundred, 1, 2, 3)\n",
    "        fmt.Println(partial)\n",
    "}\n",
    "main()\n",
    "\n",
    "// Resultado al final\n",
    "// 106\n",
    "//\t0"
   ]
  }
 ],
 "metadata": {
  "kernelspec": {
   "display_name": "Go",
   "language": "go",
   "name": "gophernotes"
  },
  "language_info": {
   "codemirror_mode": "",
   "file_extension": ".go",
   "mimetype": "",
   "name": "go",
   "nbconvert_exporter": "",
   "pygments_lexer": "",
   "version": "go1.20.1"
  }
 },
 "nbformat": 4,
 "nbformat_minor": 2
}
