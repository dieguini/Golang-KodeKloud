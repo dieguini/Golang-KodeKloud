{
 "cells": [
  {
   "cell_type": "markdown",
   "id": "01a1f3de",
   "metadata": {},
   "source": [
    "# Printing Variables"
   ]
  },
  {
   "cell_type": "markdown",
   "id": "ee9e98b4",
   "metadata": {},
   "source": [
    "## Printing simple string"
   ]
  },
  {
   "cell_type": "code",
   "execution_count": 1,
   "id": "410858a5",
   "metadata": {},
   "outputs": [],
   "source": [
    "package main\n",
    "import \"fmt\"\n",
    "\n",
    "func main(){\n",
    "\tfmt.Print(\"Hello world\")\n",
    "}"
   ]
  },
  {
   "cell_type": "markdown",
   "id": "c3c54a6b",
   "metadata": {},
   "source": [
    "## Printing a variable"
   ]
  },
  {
   "cell_type": "code",
   "execution_count": 2,
   "id": "f989f4a7",
   "metadata": {},
   "outputs": [],
   "source": [
    "package main\n",
    "import \"fmt\"\n",
    "\n",
    "func main(){\n",
    "\tvar city string = \"La Paz\"\n",
    "\tfmt.Print(city)\n",
    "}"
   ]
  },
  {
   "cell_type": "markdown",
   "id": "1fd5c5c3",
   "metadata": {},
   "source": [
    "## Printing variable and string"
   ]
  },
  {
   "cell_type": "code",
   "execution_count": 3,
   "id": "c4bb8a53",
   "metadata": {},
   "outputs": [],
   "source": [
    "package main\n",
    "import \"fmt\"\n",
    "\n",
    "func main(){\n",
    "\tvar name string = \"KodeKloud\"\n",
    "\tvar user string = \"Diego\"\n",
    "\n",
    "\tfmt.Print(\"Welcome to \", name, \", \", user)\n",
    "}"
   ]
  }
 ],
 "metadata": {
  "kernelspec": {
   "display_name": "Go",
   "language": "go",
   "name": "gophernotes"
  },
  "language_info": {
   "codemirror_mode": "",
   "file_extension": ".go",
   "mimetype": "",
   "name": "go",
   "nbconvert_exporter": "",
   "pygments_lexer": "",
   "version": "go1.20.1"
  }
 },
 "nbformat": 4,
 "nbformat_minor": 5
}
