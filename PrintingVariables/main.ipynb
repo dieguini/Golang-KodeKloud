{
 "cells": [
  {
   "attachments": {},
   "cell_type": "markdown",
   "id": "01a1f3de",
   "metadata": {},
   "source": [
    "# Printing Variables"
   ]
  },
  {
   "attachments": {},
   "cell_type": "markdown",
   "id": "ee9e98b4",
   "metadata": {},
   "source": [
    "## Printing simple string"
   ]
  },
  {
   "cell_type": "code",
   "execution_count": 24,
   "id": "410858a5",
   "metadata": {},
   "outputs": [
    {
     "name": "stdout",
     "output_type": "stream",
     "text": [
      "Hello world"
     ]
    }
   ],
   "source": [
    "package main\n",
    "import \"fmt\"\n",
    "\n",
    "func main(){\n",
    "\tfmt.Print(\"Hello world\")\n",
    "}\n",
    "\n",
    "main()"
   ]
  },
  {
   "attachments": {},
   "cell_type": "markdown",
   "id": "c3c54a6b",
   "metadata": {},
   "source": [
    "## Printing a variable"
   ]
  },
  {
   "cell_type": "code",
   "execution_count": 25,
   "id": "f989f4a7",
   "metadata": {},
   "outputs": [
    {
     "name": "stdout",
     "output_type": "stream",
     "text": [
      "La Paz"
     ]
    }
   ],
   "source": [
    "package main\n",
    "import \"fmt\"\n",
    "\n",
    "func main(){\n",
    "\tvar city string = \"La Paz\"\n",
    "\tfmt.Print(city)\n",
    "}\n",
    "\n",
    "main()"
   ]
  },
  {
   "attachments": {},
   "cell_type": "markdown",
   "id": "1fd5c5c3",
   "metadata": {},
   "source": [
    "## Printing variable and string"
   ]
  },
  {
   "cell_type": "code",
   "execution_count": 26,
   "id": "c4bb8a53",
   "metadata": {},
   "outputs": [
    {
     "name": "stdout",
     "output_type": "stream",
     "text": [
      "Welcome to Bolivia, Diego"
     ]
    }
   ],
   "source": [
    "package main\n",
    "import \"fmt\"\n",
    "\n",
    "func main(){\n",
    "\tvar name string = \"Bolivia\"\n",
    "\tvar user string = \"Diego\"\n",
    "\n",
    "\tfmt.Print(\"Welcome to \", name, \", \", user)\n",
    "}\n",
    "\n",
    "main()"
   ]
  },
  {
   "attachments": {},
   "cell_type": "markdown",
   "id": "93371907",
   "metadata": {},
   "source": [
    "## Printing on newline\n",
    "\n",
    "1. Character `\\n`"
   ]
  },
  {
   "cell_type": "code",
   "execution_count": 27,
   "id": "1df84b15",
   "metadata": {},
   "outputs": [
    {
     "name": "stdout",
     "output_type": "stream",
     "text": [
      "Bolivia\n",
      "Diego"
     ]
    }
   ],
   "source": [
    "package main\n",
    "import \"fmt\"\n",
    "\n",
    "func main(){\n",
    "\tvar name string = \"Bolivia\"\n",
    "\tvar user string = \"Diego\"\n",
    "\n",
    "\tfmt.Print(name, \"\\n\")\n",
    "\tfmt.Print(user)\n",
    "}\n",
    "\n",
    "main()"
   ]
  },
  {
   "attachments": {},
   "cell_type": "markdown",
   "id": "fddf454d",
   "metadata": {},
   "source": [
    "2. **`Println` method**: Use the new line"
   ]
  },
  {
   "cell_type": "code",
   "execution_count": 28,
   "id": "33b39cea",
   "metadata": {},
   "outputs": [
    {
     "name": "stdout",
     "output_type": "stream",
     "text": [
      "Bolivia\n",
      "Diego\n"
     ]
    }
   ],
   "source": [
    "package main\n",
    "import \"fmt\"\n",
    "\n",
    "func main(){\n",
    "\tvar name string = \"Bolivia\"\n",
    "\tvar user string = \"Diego\"\n",
    "\n",
    "\tfmt.Println(name)\n",
    "\tfmt.Println(user)\n",
    "}\n",
    "\n",
    "main()"
   ]
  },
  {
   "attachments": {},
   "cell_type": "markdown",
   "id": "8f8800ea",
   "metadata": {},
   "source": [
    "## _Printf_\n",
    "\n",
    "### Sintaxis\n",
    "\n",
    "```go\n",
    "fmt.Printf(\"Template string %s\", Object args(s))\n",
    "```\n",
    "\n",
    "### Format Specifiers\n",
    "\n",
    "- **%v**: value en el formato por defecto\n",
    "- **%d**: formatea _integer_ a _string_"
   ]
  },
  {
   "attachments": {},
   "cell_type": "markdown",
   "id": "572b3500",
   "metadata": {},
   "source": [
    "- Value normal"
   ]
  },
  {
   "cell_type": "code",
   "execution_count": 29,
   "id": "f8fe906a",
   "metadata": {},
   "outputs": [
    {
     "ename": "ERROR",
     "evalue": "cannot convert untyped constant {string \"Bolivia\"} to <int>",
     "output_type": "error",
     "traceback": [
      "cannot convert untyped constant {string \"Bolivia\"} to <int>"
     ]
    }
   ],
   "source": [
    "package main\n",
    "import \"fmt\"\n",
    "\n",
    "func main()  {\n",
    "\tvar grades int = \"Bolivia\"\n",
    "\tfmt.Printf(\"Nice to see you here at %v \\n\", name)\n",
    "}\n",
    "\n",
    "main()"
   ]
  },
  {
   "attachments": {},
   "cell_type": "markdown",
   "id": "45892f94",
   "metadata": {},
   "source": [
    "- Numero entero"
   ]
  },
  {
   "cell_type": "code",
   "execution_count": null,
   "id": "08a2057e",
   "metadata": {},
   "outputs": [
    {
     "name": "stdout",
     "output_type": "stream",
     "text": [
      "Numero: 8723 \n",
      "Decimal: %!d(float64=45.3) \n"
     ]
    }
   ],
   "source": [
    "package main\n",
    "import \"fmt\"\n",
    "\n",
    "func main()  {\n",
    "\tvar num int = 8723\n",
    "\tfmt.Printf(\"Numero: %d \\n\", num)\n",
    "}\n",
    "\n",
    "main()"
   ]
  },
  {
   "attachments": {},
   "cell_type": "markdown",
   "id": "103742d1",
   "metadata": {},
   "source": [
    "- Los dos juntos"
   ]
  },
  {
   "cell_type": "code",
   "execution_count": null,
   "id": "8b6365d0",
   "metadata": {},
   "outputs": [
    {
     "name": "stdout",
     "output_type": "stream",
     "text": [
      "Hola Diego tu edad registrada es 22"
     ]
    }
   ],
   "source": [
    "package main\n",
    "import \"fmt\"\n",
    "\n",
    "func main()  {\n",
    "\tvar user string = \"Diego\"\n",
    "\tvar age int = 22\n",
    "\n",
    "\tfmt.Printf(\"Hola %v tu edad registrada es %d\", user, age)\n",
    "}\n",
    "\n",
    "main()"
   ]
  },
  {
   "attachments": {},
   "cell_type": "markdown",
   "id": "ccdb12a1",
   "metadata": {},
   "source": [
    "### Tabla de otros format specifiers\n",
    "\n",
    "| Verb | Description              |\n",
    "| ---- | ------------------------ |\n",
    "| %v   | default format           |\n",
    "| %T   | type of the value        |\n",
    "| %d   | integers                 |\n",
    "| %c   | character                |\n",
    "| %q   | quoted characters/string |\n",
    "| %s   | plain string             |\n",
    "| %t   | true or false            |\n",
    "| %f   | floating numbers         |\n",
    "| %.2f | floating numbers upto 2 decimal places                 "
   ]
  }
 ],
 "metadata": {
  "kernelspec": {
   "display_name": "Go",
   "language": "go",
   "name": "gophernotes"
  },
  "language_info": {
   "codemirror_mode": "",
   "file_extension": ".go",
   "mimetype": "",
   "name": "go",
   "nbconvert_exporter": "",
   "pygments_lexer": "",
   "version": "go1.20.1"
  }
 },
 "nbformat": 4,
 "nbformat_minor": 5
}
