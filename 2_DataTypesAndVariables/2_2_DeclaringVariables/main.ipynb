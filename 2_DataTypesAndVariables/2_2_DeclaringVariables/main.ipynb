{
 "cells": [
  {
   "attachments": {},
   "cell_type": "markdown",
   "metadata": {},
   "source": [
    "# Declaring Variables"
   ]
  },
  {
   "attachments": {},
   "cell_type": "markdown",
   "metadata": {},
   "source": [
    "## Declariation + Initialization\n",
    "\n",
    "Could declare before using the variable"
   ]
  },
  {
   "cell_type": "code",
   "execution_count": null,
   "metadata": {},
   "outputs": [],
   "source": [
    "package main\n",
    "import \"fmt\"\n",
    "\n",
    "func main()  {\n",
    "\tvar s string\n",
    "\ts = \"String variable\"\n",
    "\tfmt.Println(s)\n",
    "}\n",
    "\n",
    "main()"
   ]
  },
  {
   "attachments": {},
   "cell_type": "markdown",
   "metadata": {},
   "source": [
    "## Shorthand way\n",
    "\n",
    "- Cuando son del mismo tipo. Se separa con coma `,`"
   ]
  },
  {
   "cell_type": "code",
   "execution_count": null,
   "metadata": {},
   "outputs": [],
   "source": [
    "package main\n",
    "import (\"fmt\")\n",
    "\n",
    "func main()  {\n",
    "\tvar s,t string = \"foo\", \"bar\"\n",
    "\tfmt.Println(s)\n",
    "\tfmt.Println(t)\n",
    "}\n",
    "\n",
    "main()"
   ]
  },
  {
   "attachments": {},
   "cell_type": "markdown",
   "metadata": {},
   "source": [
    "- Cuando son de diferente tipo se usa la funcion `var()`"
   ]
  },
  {
   "cell_type": "code",
   "execution_count": null,
   "metadata": {},
   "outputs": [],
   "source": [
    "package main\n",
    "import \"fmt\"\n",
    "\n",
    "func main()  {\n",
    "\tvar (\n",
    "\t\ts string = \"foo\"\n",
    "\t\ti int = 5\n",
    "\t)\n",
    "\n",
    "\tfmt.Printf(\"Test variable '%v' and number '%d'\", s, i)\n",
    "}\n",
    "\n",
    "main()"
   ]
  },
  {
   "attachments": {},
   "cell_type": "markdown",
   "metadata": {},
   "source": [
    "## Short variable declaration\n",
    "\n",
    "```go\n",
    "s := \"Hello World\"\n",
    "```"
   ]
  },
  {
   "cell_type": "code",
   "execution_count": null,
   "metadata": {},
   "outputs": [],
   "source": [
    "package main\n",
    "import (\"fmt\")\n",
    "\n",
    "func main()  {\n",
    "\tname := \"Diego\"\n",
    "\tname = \"Diego J\"\n",
    "\tfmt.Println(\"Nombre\", name)\n",
    "}\n",
    "\n",
    "main()"
   ]
  }
 ],
 "metadata": {
  "kernelspec": {
   "display_name": "Go",
   "language": "go",
   "name": "gophernotes"
  },
  "language_info": {
   "codemirror_mode": "",
   "file_extension": ".go",
   "mimetype": "",
   "name": "go",
   "nbconvert_exporter": "",
   "pygments_lexer": "",
   "version": "go1.20.1"
  }
 },
 "nbformat": 4,
 "nbformat_minor": 2
}
