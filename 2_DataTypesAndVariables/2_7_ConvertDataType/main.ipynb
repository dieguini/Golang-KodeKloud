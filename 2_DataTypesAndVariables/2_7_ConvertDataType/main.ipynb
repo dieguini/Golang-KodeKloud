{
 "cells": [
  {
   "attachments": {},
   "cell_type": "markdown",
   "metadata": {},
   "source": [
    "# Converting Data type"
   ]
  },
  {
   "attachments": {},
   "cell_type": "markdown",
   "metadata": {},
   "source": [
    "## Integer to float"
   ]
  },
  {
   "cell_type": "code",
   "execution_count": null,
   "metadata": {},
   "outputs": [],
   "source": [
    "package main\n",
    "import \"fmt\"\n",
    "\n",
    "func main() {\n",
    "\tvar i int = 50\n",
    "\tvar f float64 = float64(i)\n",
    "\tfmt.Printf(\"%.2f\\n\", f)\n",
    "}\n",
    "\n",
    "main()"
   ]
  },
  {
   "attachments": {},
   "cell_type": "markdown",
   "metadata": {},
   "source": [
    "## Float to integer\n",
    "\n",
    "Notese como perdemos los puntos decimales y tambien no redondea al mas alto"
   ]
  },
  {
   "cell_type": "code",
   "execution_count": null,
   "metadata": {},
   "outputs": [],
   "source": [
    "package main\n",
    "import \"fmt\"\n",
    "\n",
    "func main() {\n",
    "\tvar f float64 = 67.8\n",
    "\tvar i int = int(f)\n",
    "\tfmt.Printf(\"%d\\n\", i)\n",
    "\tf = 57.3\n",
    "\ti = int(f)\n",
    "\tfmt.Printf(\"%d\\n\", i)\n",
    "}\n",
    "\n",
    "main()"
   ]
  },
  {
   "attachments": {},
   "cell_type": "markdown",
   "metadata": {},
   "source": [
    "## _strconv_ package\n",
    "\n",
    "String conversion package"
   ]
  },
  {
   "attachments": {},
   "cell_type": "markdown",
   "metadata": {},
   "source": [
    "### Itoa()\n",
    "\n",
    "Metodo que:\n",
    "\n",
    "- Convierte `int` a `string`\n",
    "- Devuelve un valor"
   ]
  },
  {
   "cell_type": "code",
   "execution_count": null,
   "metadata": {},
   "outputs": [],
   "source": [
    "package main\n",
    "import (\n",
    "\t\"fmt\"\n",
    "\t\"strconv\"\n",
    ")\n",
    "\n",
    "func main() {\n",
    "\tvar i int = 28\n",
    "\tvar s string = strconv.Itoa(i)\n",
    "\tfmt.Printf(\"%q\", s)\n",
    "}\n",
    "\n",
    "main()"
   ]
  },
  {
   "attachments": {},
   "cell_type": "markdown",
   "metadata": {},
   "source": [
    "### Atoi()\n",
    "\n",
    "Metodo que:\n",
    "\n",
    "- Convierte `string` a `int`\n",
    "- Devuelve dos valores, numero _entero_ y _error_ si hay"
   ]
  },
  {
   "cell_type": "code",
   "execution_count": null,
   "metadata": {},
   "outputs": [],
   "source": [
    "package main\n",
    "import (\n",
    "\t\"fmt\"\n",
    "\t\"strconv\"\n",
    ")\n",
    "\n",
    "func main() {\n",
    "\tvar s string = \"Diego\"\n",
    "\ti, err := strconv.Atoi(s)\n",
    "\tfmt.Printf(\"%v %T \\n\", i, i)\n",
    "\tfmt.Printf(\"%v %T \\n\\n\", err, err) // Return error\n",
    "\n",
    "\ts = \"67.7\"\n",
    "\ti, err := strconv.Atoi(s)\n",
    "\tfmt.Printf(\"%v %T \\n\", i, i)\n",
    "\tfmt.Printf(\"%v %T \\n\\n\", err, err) // Return error\n",
    "\n",
    "\ts = \"255\"\n",
    "\ti, err := strconv.Atoi(s)\n",
    "\tfmt.Printf(\"%v %T \\n\", i, i)\n",
    "\tfmt.Printf(\"%v %T \\n\", err, err) // Return <nil> - No error\n",
    "}\n",
    "\n",
    "main()"
   ]
  }
 ],
 "metadata": {
  "kernelspec": {
   "display_name": "Go",
   "language": "go",
   "name": "gophernotes"
  },
  "language_info": {
   "codemirror_mode": "",
   "file_extension": ".go",
   "mimetype": "",
   "name": "go",
   "nbconvert_exporter": "",
   "pygments_lexer": "",
   "version": "go1.20.1"
  }
 },
 "nbformat": 4,
 "nbformat_minor": 2
}
