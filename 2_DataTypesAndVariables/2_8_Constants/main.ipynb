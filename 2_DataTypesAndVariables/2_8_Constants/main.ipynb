{
 "cells": [
  {
   "attachments": {},
   "cell_type": "markdown",
   "metadata": {},
   "source": [
    "# Constants"
   ]
  },
  {
   "attachments": {},
   "cell_type": "markdown",
   "metadata": {},
   "source": [
    "## Syntaxis\n",
    "\n",
    "```go\n",
    "const <variable name> <data type> = <value>\n",
    "```"
   ]
  },
  {
   "attachments": {},
   "cell_type": "markdown",
   "metadata": {},
   "source": [
    "## Tipos\n",
    "\n",
    "Existen dos tipos de constantes:\n",
    "\n",
    "### Untyped Constant\n",
    "\n",
    "- Si no los brindaste tipo, son no tipados o _untyped_\n",
    "- Permiten mayor flexibilidad"
   ]
  },
  {
   "cell_type": "code",
   "execution_count": null,
   "metadata": {},
   "outputs": [],
   "source": [
    "const AGE = 12\n",
    "const NAME, NUMBER = \"Diego\", 883723"
   ]
  },
  {
   "attachments": {},
   "cell_type": "markdown",
   "metadata": {},
   "source": [
    "### Typed Constant\n",
    "\n",
    "- Brindas el tipo\n",
    "- No hay flexibilidad"
   ]
  },
  {
   "cell_type": "code",
   "execution_count": null,
   "metadata": {},
   "outputs": [],
   "source": [
    "const AGE int = 12\n",
    "const NAME string = \"Diego\""
   ]
  },
  {
   "attachments": {},
   "cell_type": "markdown",
   "metadata": {},
   "source": [
    "## Entender Constants\n",
    "\n",
    "- Ejemplo basico"
   ]
  },
  {
   "cell_type": "code",
   "execution_count": null,
   "metadata": {},
   "outputs": [],
   "source": [
    "package main\n",
    "import \"fmt\"\n",
    "\n",
    "func main() {\n",
    "\tconst name = \"Diego\"\n",
    "\tconst married = true\n",
    "\tconst number = 77\n",
    "\n",
    "\tfmt.Printf(\"%v: %T \\n\", name, name)\n",
    "\tfmt.Printf(\"%v: %T \\n\", married, married)\n",
    "\tfmt.Printf(\"%v: %T \\n\", number, number)\n",
    "}\n",
    "\n",
    "main()"
   ]
  },
  {
   "attachments": {},
   "cell_type": "markdown",
   "metadata": {},
   "source": [
    "- Intentar cambiar el valor, debe botar un _error_"
   ]
  },
  {
   "cell_type": "code",
   "execution_count": null,
   "metadata": {},
   "outputs": [],
   "source": [
    "package main\n",
    "import \"fmt\"\n",
    "\n",
    "func main() {\n",
    "\tconst name = \"Diego\"\n",
    "\tname = \"Another name\"\n",
    "}\n",
    "\n",
    "main()"
   ]
  },
  {
   "attachments": {},
   "cell_type": "markdown",
   "metadata": {},
   "source": [
    "- No declarar un valor, debe botar un _error_\n",
    "  - No hay el concepto de **Zero Value** ya visto"
   ]
  },
  {
   "cell_type": "code",
   "execution_count": null,
   "metadata": {},
   "outputs": [],
   "source": [
    "package main\n",
    "import \"fmt\"\n",
    "\n",
    "func main() {\n",
    "\tconst name\n",
    "\tname = \"Diego\"\n",
    "}\n",
    "\n",
    "main()"
   ]
  },
  {
   "attachments": {},
   "cell_type": "markdown",
   "metadata": {},
   "source": [
    "- No hay _short hand_ `:=`"
   ]
  },
  {
   "cell_type": "code",
   "execution_count": null,
   "metadata": {},
   "outputs": [],
   "source": [
    "package main\n",
    "import \"fmt\"\n",
    "\n",
    "func main() {\n",
    "\tcons name := \"Diego\"\n",
    "}"
   ]
  },
  {
   "attachments": {},
   "cell_type": "markdown",
   "metadata": {},
   "source": [
    "- Ultimo ejemplo, global constant"
   ]
  },
  {
   "cell_type": "code",
   "execution_count": null,
   "metadata": {},
   "outputs": [],
   "source": [
    "package main\n",
    "import \"fmt\"\n",
    "\n",
    "const PI float64 = 3.1416\n",
    "\n",
    "func main() {\n",
    "\tvar radious float64 = 5.0\n",
    "\tvar area float64\n",
    "\tarea = PI * radious * radious\n",
    "\tfmt.Println(\"El area del circulo de radio '\", radious,\"' es '\", area,\"'\")\n",
    "}\n",
    "\n",
    "main()"
   ]
  }
 ],
 "metadata": {
  "kernelspec": {
   "display_name": "Go",
   "language": "go",
   "name": "gophernotes"
  },
  "language_info": {
   "codemirror_mode": "",
   "file_extension": ".go",
   "mimetype": "",
   "name": "go",
   "nbconvert_exporter": "",
   "pygments_lexer": "",
   "version": "go1.20.1"
  }
 },
 "nbformat": 4,
 "nbformat_minor": 2
}
