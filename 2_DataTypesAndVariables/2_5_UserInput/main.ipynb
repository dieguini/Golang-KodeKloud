{
 "cells": [
  {
   "cell_type": "markdown",
   "metadata": {},
   "source": [
    "# User Input"
   ]
  },
  {
   "cell_type": "markdown",
   "metadata": {},
   "source": [
    "## Scanf\n",
    "\n",
    "```go\n",
    "fmt.Scanf(\"%<format specifier> (s)\", Object_argument)\n",
    "```"
   ]
  },
  {
   "attachments": {},
   "cell_type": "markdown",
   "metadata": {},
   "source": [
    "### Single Input"
   ]
  },
  {
   "cell_type": "code",
   "execution_count": null,
   "metadata": {},
   "outputs": [],
   "source": [
    "package main\n",
    "import \"fmt\"\n",
    "\n",
    "func main()  {\n",
    "\tvar name string\n",
    "\tfmt.Printf(\"Enter your name: \")\n",
    "\tfmt.Scanf(\"%s\", &name)\n",
    "\tfmt.Println(\"Hey, \", name)\n",
    "}\n",
    "\n",
    "main()"
   ]
  },
  {
   "attachments": {},
   "cell_type": "markdown",
   "metadata": {},
   "source": [
    "### Multiple Input"
   ]
  },
  {
   "attachments": {},
   "cell_type": "markdown",
   "metadata": {},
   "source": [
    "- Simple multiple input"
   ]
  },
  {
   "cell_type": "code",
   "execution_count": null,
   "metadata": {},
   "outputs": [],
   "source": [
    "package main\n",
    "import \"fmt\"\n",
    "\n",
    "func main()  {\n",
    "\tvar name string\n",
    "\tvar married bool\n",
    "\tfmt.Printf(\"Enter your name & if you ate married: \")\n",
    "\tfmt.Scanf(\"%s %t\", &name, &married)\n",
    "\tfmt.Println(\"Hey, \", name, \" your married state is \", married)\n",
    "}\n",
    "\n",
    "main()"
   ]
  },
  {
   "attachments": {},
   "cell_type": "markdown",
   "metadata": {},
   "source": [
    "- Count and error handling"
   ]
  },
  {
   "cell_type": "code",
   "execution_count": null,
   "metadata": {},
   "outputs": [],
   "source": [
    "package main\n",
    "import \"fmt\"\n",
    "\n",
    "func main()  {\n",
    "\tvar a string\n",
    "\tvar b int\n",
    "\tfmt.Printf(\"Enter string and number: \")\n",
    "\tcount, err := fmt.Scanf(\"%s %d\", &a, &b)\n",
    "\tfmt.Println(\"count: \", count)\n",
    "\tfmt.Println(\"error: \", err)\n",
    "\tfmt.Println(\"a: \", a)\n",
    "\tfmt.Println(\"b: \", b)\n",
    "}\n",
    "\n",
    "main()"
   ]
  },
  {
   "attachments": {},
   "cell_type": "markdown",
   "metadata": {},
   "source": [
    "<ins>Possible output</ins>\n",
    "\n",
    "```sh\n",
    "Enter string and number: string 555\n",
    "count:  2\n",
    "error:  <nil>\n",
    "a:  string\n",
    "b:  555\n",
    "```\n",
    "```sh\n",
    "Enter string and number: string string\n",
    "count:  1\n",
    "error:  expected integer\n",
    "a:  string\n",
    "b:  0\n",
    "```"
   ]
  }
 ],
 "metadata": {
  "kernelspec": {
   "display_name": "Go",
   "language": "go",
   "name": "gophernotes"
  },
  "language_info": {
   "codemirror_mode": "",
   "file_extension": ".go",
   "mimetype": "",
   "name": "go",
   "nbconvert_exporter": "",
   "pygments_lexer": "",
   "version": "go1.20.1"
  }
 },
 "nbformat": 4,
 "nbformat_minor": 2
}
