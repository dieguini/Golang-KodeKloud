{
 "cells": [
  {
   "attachments": {},
   "cell_type": "markdown",
   "metadata": {},
   "source": [
    "# Zero Values\n",
    "\n",
    "El valor de zero depende del Data Type, se entendera con los siguientes ejemplos"
   ]
  },
  {
   "cell_type": "code",
   "execution_count": null,
   "metadata": {},
   "outputs": [],
   "source": [
    "package main\n",
    "import \"fmt\"\n",
    "\n",
    "func main()  {\n",
    "\tvar i int\n",
    "\tvar c byte\n",
    "\tvar s string\n",
    "\tvar fl float64\n",
    "\tvar b bool\n",
    "\tfmt.Printf(\"Zero value of '%T' is => %d \\n\", i, i)\n",
    "\tfmt.Printf(\"Zero value of '%T' is => %c \\n\", c, c)\n",
    "\tfmt.Printf(\"Zero value of '%T' is => %s \\n\", s, s)\n",
    "\tfmt.Printf(\"Zero value of '%T' is => %f \\n\", fl, fl)\n",
    "\tfmt.Printf(\"Zero value of '%T' is => %t \\n\", b, b)\n",
    "}\n",
    "\n",
    "main()"
   ]
  },
  {
   "attachments": {},
   "cell_type": "markdown",
   "metadata": {},
   "source": [
    "**NOTA:** Esto puede ayudar en\n",
    "\n",
    "- Verificar si una variable esta iniciada\n",
    "- Verificar el tipo de variable"
   ]
  }
 ],
 "metadata": {
  "kernelspec": {
   "display_name": "Go",
   "language": "go",
   "name": "gophernotes"
  },
  "language_info": {
   "codemirror_mode": "",
   "file_extension": ".go",
   "mimetype": "",
   "name": "go",
   "nbconvert_exporter": "",
   "pygments_lexer": "",
   "version": "go1.20.1"
  }
 },
 "nbformat": 4,
 "nbformat_minor": 2
}
