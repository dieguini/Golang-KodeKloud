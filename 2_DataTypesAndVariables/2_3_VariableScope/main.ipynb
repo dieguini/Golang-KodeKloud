{
 "cells": [
  {
   "attachments": {},
   "cell_type": "markdown",
   "metadata": {},
   "source": [
    "# Variables Scope"
   ]
  },
  {
   "attachments": {},
   "cell_type": "markdown",
   "metadata": {},
   "source": [
    "## Blocks\n",
    "\n",
    "- _Inner_ <ins>puede acceder</ins> a variables de _outer_\n",
    "- _Outer_ <ins>no puede acceder</ins> a variables de _innet_\n",
    "\n",
    "```go\n",
    "{ \n",
    "\t// outer block \n",
    "\t{ \n",
    "\t\t// inner block \n",
    "\t}\n",
    "}\n",
    "```"
   ]
  },
  {
   "cell_type": "code",
   "execution_count": null,
   "metadata": {},
   "outputs": [],
   "source": [
    "package main\n",
    "import \"fmt\"\n",
    "\n",
    "func main()  {\n",
    "\tcity := \"La Paz\"\n",
    "\n",
    "\t{\n",
    "\t\tcountry := \"Bolivia\"\n",
    "\t\tfmt.Println(country)\n",
    "\t\tfmt.Println(city)\n",
    "\t}\n",
    "\n",
    "\t// fmt.Println(country) // This line has error because of the scope\n",
    "\tfmt.Println(city)\n",
    "}\n",
    "\n",
    "main()"
   ]
  },
  {
   "attachments": {},
   "cell_type": "markdown",
   "metadata": {},
   "source": [
    "## Local vs Global Variables"
   ]
  },
  {
   "attachments": {},
   "cell_type": "markdown",
   "metadata": {},
   "source": [
    "### Local\n",
    "\n",
    "- Declaradas dentro de una funcion o bloque\n",
    "- No accesibles afuera del bloque\n",
    "- Declaradas dentro de _loop_ o _condicionales_\n"
   ]
  },
  {
   "cell_type": "code",
   "execution_count": null,
   "metadata": {},
   "outputs": [],
   "source": [
    "package main\n",
    "import \"fmt\"\n",
    "\n",
    "func main()  {\n",
    "\tname := \"Diego\"\n",
    "\tfmt.Println(name)\n",
    "}\n",
    "\n",
    "main()"
   ]
  },
  {
   "attachments": {},
   "cell_type": "markdown",
   "metadata": {},
   "source": [
    "### Global\n",
    "\n",
    "- Declaradas afuera de una funcion o bloque\n",
    "- Accesibles para todo el programa\n",
    "- Declaradas afuera del todo, _funciones_ o _bloques_"
   ]
  },
  {
   "cell_type": "code",
   "execution_count": null,
   "metadata": {},
   "outputs": [],
   "source": [
    "package main\n",
    "import \"fmt\"\n",
    "\n",
    "name := \"Diego\"\n",
    "var another_name string = \"Pedro\"\n",
    "\n",
    "func main()  {\n",
    "\tfmt.Println(name)\n",
    "\tfmt.Println(another_name)\n",
    "}\n",
    "\n",
    "main()"
   ]
  }
 ],
 "metadata": {
  "kernelspec": {
   "display_name": "Go",
   "language": "go",
   "name": "gophernotes"
  },
  "language_info": {
   "codemirror_mode": "",
   "file_extension": ".go",
   "mimetype": "",
   "name": "go",
   "nbconvert_exporter": "",
   "pygments_lexer": "",
   "version": "go1.20.1"
  }
 },
 "nbformat": 4,
 "nbformat_minor": 2
}
