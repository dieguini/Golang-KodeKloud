{
 "cells": [
  {
   "attachments": {},
   "cell_type": "markdown",
   "metadata": {},
   "source": [
    "# Find Type of variable\n",
    "\n",
    "Hay dos formars:\n",
    "\n",
    "- `%T`, format specifier\n",
    "- `reflect.TypeOf` function from package"
   ]
  },
  {
   "attachments": {},
   "cell_type": "markdown",
   "metadata": {},
   "source": [
    "## Format Specifier"
   ]
  },
  {
   "cell_type": "code",
   "execution_count": null,
   "metadata": {},
   "outputs": [],
   "source": [
    "package main\n",
    "import \"fmt\"\n",
    "\n",
    "func main() {\n",
    "\tvar grades int = 42\n",
    "\tvar message string = \"hello world\"\n",
    "\tvar isCheck bool = true\n",
    "\tvar amount float32 = 5466.54\n",
    "\tfmt.Printf(\"variable grades = %v is of type %T \\n\", grades, grades)\n",
    "\tfmt.Printf(\"variable message = '%v' is of type %T \\n\", message, message)\n",
    "\tfmt.Printf(\"variable isCheck = '%v' is of type %T \\n\", isCheck, isCheck)\n",
    "\tfmt.Printf(\"variable amount = %v is of type %T \\n\", amount, amount)\n",
    "}\n",
    "\n",
    "main()"
   ]
  },
  {
   "attachments": {},
   "cell_type": "markdown",
   "metadata": {},
   "source": [
    "## Reflect package"
   ]
  },
  {
   "cell_type": "code",
   "execution_count": null,
   "metadata": {},
   "outputs": [],
   "source": [
    "package main\n",
    "import (\n",
    "\t\"fmt\"\n",
    "\t\"reflect\"\n",
    ")\n",
    "\n",
    "func main() {\n",
    "\tfmt.Printf(\"Type: %v \\n\", reflect.TypeOf(1000))\n",
    "\tfmt.Printf(\"Type: %v \\n\", reflect.TypeOf(\"priyanka\"))\n",
    "\tfmt.Printf(\"Type: %v \\n\", reflect.TypeOf(46.0))\n",
    "\tfmt.Printf(\"Type: %v \\n\\n\", reflect.TypeOf(true))\n",
    "\n",
    "\tvar grades int = 42\n",
    "\tvar message string = \"hello world\"\n",
    "\tfmt.Printf(\"variable grades=%v is of type %v \\n\", grades, reflect.TypeOf(grades))\n",
    "\tfmt.Printf(\"variable message='%v' is of type %v \\n\", message, reflect.TypeOf(message))\n",
    "}\n",
    "\n",
    "main()"
   ]
  }
 ],
 "metadata": {
  "kernelspec": {
   "display_name": "Go",
   "language": "go",
   "name": "gophernotes"
  },
  "language_info": {
   "codemirror_mode": "",
   "file_extension": ".go",
   "mimetype": "",
   "name": "go",
   "nbconvert_exporter": "",
   "pygments_lexer": "",
   "version": "go1.20.1"
  }
 },
 "nbformat": 4,
 "nbformat_minor": 2
}
