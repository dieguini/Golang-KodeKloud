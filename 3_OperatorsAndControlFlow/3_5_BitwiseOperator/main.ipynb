{
 "cells": [
  {
   "attachments": {},
   "cell_type": "markdown",
   "metadata": {},
   "source": [
    "# Bitwise Operator"
   ]
  },
  {
   "attachments": {},
   "cell_type": "markdown",
   "metadata": {},
   "source": [
    "## Bitwise AND\n",
    "\n",
    "`&`\n",
    "\n",
    "> Operates AND on bit level\n",
    "\n",
    "| 128 | 64 | 32 | 16 | 8 | 4 | 2 | 1 | Bit Portion |\n",
    "|-----|----|----|----|---|---|---|---|-------------|\n",
    "| 0   | 0  | 1  | 0  | 0 | 1 | 0 | 1 | 37          |\n",
    "| 1   | 0  | 1  | 0  | 1 | 1 | 0 | 1 | 173         |\n",
    "| -   | -  | -  | -  | - | - | - | - | &           |\n",
    "| 0   | 0  | 1  | 0  | 0 | 1 | 0 | 1 | 37          |\n"
   ]
  },
  {
   "cell_type": "code",
   "execution_count": null,
   "metadata": {},
   "outputs": [],
   "source": [
    "package main\n",
    "import \"fmt\"\n",
    "\n",
    "func main() {\n",
    "\tvar x, y int = 37, 173\n",
    "\tz := x & y\n",
    "\tfmt.Println(\"x & y = z\")\n",
    "\tfmt.Printf(\"%d & %d = %d\", x, y, z)\n",
    "}\n",
    "main()"
   ]
  },
  {
   "attachments": {},
   "cell_type": "markdown",
   "metadata": {},
   "source": [
    "## Bitwise OR\n",
    "\n",
    "`|`\n",
    "\n",
    "> Operates OR on bit level \n",
    "\n",
    "| 128 | 64 | 32 | 16 | 8 | 4 | 2 | 1 | Bit Portion |\n",
    "|-----|----|----|----|---|---|---|---|-------------|\n",
    "| 0   | 0  | 1  | 0  | 0 | 1 | 0 | 1 | 37          |\n",
    "| 1   | 0  | 1  | 0  | 1 | 1 | 0 | 1 | 173         |\n",
    "| -   | -  | -  | -  | - | - | - | - | \\|          |\n",
    "| 1   | 0  | 1  | 0  | 1 | 1 | 0 | 1 | 173         |"
   ]
  },
  {
   "cell_type": "code",
   "execution_count": null,
   "metadata": {},
   "outputs": [],
   "source": [
    "package main\n",
    "import \"fmt\"\n",
    "\n",
    "func main() {\n",
    "\tvar x, y int = 37, 173\n",
    "\tz := x | y\n",
    "\tfmt.Println(\"x | y = z\")\n",
    "\tfmt.Printf(\"%d | %d = %d\", x, y, z)\n",
    "}\n",
    "main()"
   ]
  },
  {
   "attachments": {},
   "cell_type": "markdown",
   "metadata": {},
   "source": [
    "## Bitwise XOR\n",
    "\n",
    "`^`\n",
    "\n",
    "> - Operates XOR on bit level\n",
    "> - If differente => 1\n",
    "\n",
    "| 128 | 64 | 32 | 16 | 8 | 4 | 2 | 1 | Bit Portion |\n",
    "|-----|----|----|----|---|---|---|---|-------------|\n",
    "| 0   | 0  | 1  | 0  | 0 | 1 | 0 | 1 | 37          |\n",
    "| 1   | 0  | 1  | 0  | 1 | 1 | 0 | 1 | 173         |\n",
    "| -   | -  | -  | -  | - | - | - | - | \\|          |\n",
    "| 1   | 0  | 0  | 0  | 1 | 0 | 0 | 0 | 136         |"
   ]
  },
  {
   "cell_type": "code",
   "execution_count": null,
   "metadata": {},
   "outputs": [],
   "source": [
    "package main\n",
    "import \"fmt\"\n",
    "\n",
    "func main() {\n",
    "\tvar x, y int = 37, 173\n",
    "\tz := x ^ y\n",
    "\tfmt.Println(\"x ^ y = z\")\n",
    "\tfmt.Printf(\"%d ^ %d = %d\", x, y, z)\n",
    "}\n",
    "main()"
   ]
  },
  {
   "attachments": {},
   "cell_type": "markdown",
   "metadata": {},
   "source": [
    "## Bitwise Left Shift\n",
    "\n",
    "`<<`\n",
    "\n",
    "> Moves x bits and adds 0 on vacated position\n",
    "\n",
    "| 512 | 256 | 128 | 64 | 32 | 16 | 8 | 4 | 2 | 1 | Bit Portion |\n",
    "|-----|-----|-----|----|----|----|---|---|---|---|-------------|\n",
    "|     |     | 1   | 0  | 1  | 0  | 1 | 1 | 0 | 1 | 173         |\n",
    "| -   | -   | -   | -  | -  | -  | - | - | - | - | << 2 (Bits) |\n",
    "| 1   | 0   | 1   | 0  | 1  | 1  | 0 | 1 | <b>0</b> | <b>0</b> |             |"
   ]
  },
  {
   "cell_type": "code",
   "execution_count": null,
   "metadata": {},
   "outputs": [],
   "source": [
    "package main\n",
    "import \"fmt\"\n",
    "\n",
    "func main() {\n",
    "\tvar x int = 173\n",
    "\tz := x << 2\n",
    "\tfmt.Println(\"x << 2 = z\")\n",
    "\tfmt.Printf(\"%d << 2 = %d\", x, z)\n",
    "}\n",
    "main()"
   ]
  },
  {
   "attachments": {},
   "cell_type": "markdown",
   "metadata": {},
   "source": [
    "## Bitwise Rigth Shift\n",
    "\n",
    "`>>`\n",
    "\n",
    "> - Moves x bits, adds 0 and discard the rest\n",
    "\n",
    "| 128 | 64 | 32 | 16 | 8 | 4 | 2 | 1 | Bit Portion |\n",
    "|-----|----|----|----|---|---|---|---|-------------|\n",
    "| 1   | 0  | 1  | 0  | 1 | 1 | 0 | 1 | 173         |\n",
    "| -   | -  | -  | -  | - | - |   |   | >> 3 (Bits) |\n",
    "| 0   | 0  | 0  | 1  | 0 | 1 | 0 | 1 | 21          |"
   ]
  },
  {
   "cell_type": "code",
   "execution_count": null,
   "metadata": {},
   "outputs": [],
   "source": [
    "package main\n",
    "import \"fmt\"\n",
    "\n",
    "func main() {\n",
    "\tvar x int = 173\n",
    "\tz := x >> 3\n",
    "\tfmt.Println(\"x >> 3 = z\")\n",
    "\tfmt.Printf(\"%d >> 3 = %d\", x, z)\n",
    "}\n",
    "main()"
   ]
  }
 ],
 "metadata": {
  "kernelspec": {
   "display_name": "Go",
   "language": "go",
   "name": "gophernotes"
  },
  "language_info": {
   "codemirror_mode": "",
   "file_extension": ".go",
   "mimetype": "",
   "name": "go",
   "nbconvert_exporter": "",
   "pygments_lexer": "",
   "version": "go1.20.1"
  }
 },
 "nbformat": 4,
 "nbformat_minor": 2
}
