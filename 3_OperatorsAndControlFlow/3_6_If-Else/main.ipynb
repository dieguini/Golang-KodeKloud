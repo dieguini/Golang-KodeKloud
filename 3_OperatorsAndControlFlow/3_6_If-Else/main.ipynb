{
 "cells": [
  {
   "attachments": {},
   "cell_type": "markdown",
   "metadata": {},
   "source": [
    "# If-Else"
   ]
  },
  {
   "cell_type": "code",
   "execution_count": null,
   "metadata": {},
   "outputs": [],
   "source": [
    "package main\n",
    "import \"fmt\"\n",
    "\n",
    "func main() {\n",
    "\tvar s string = \"some_string\"\n",
    "\t\n",
    "\tif s == \"some_string\" {\n",
    "\t\tfmt.Println(\"Ok\")\n",
    "\t}\n",
    "}\n",
    "main()"
   ]
  },
  {
   "cell_type": "code",
   "execution_count": null,
   "metadata": {},
   "outputs": [],
   "source": [
    "package main\n",
    "import \"fmt\"\n",
    "\n",
    "func main() {\n",
    "\tvar s string = \"some_string_another\"\n",
    "\t\n",
    "\tif s == \"some_string\" {\n",
    "\t\tfmt.Println(\"Ok\")\n",
    "\t}else {\n",
    "\t\tfmt.Println(\"Ok another\")\n",
    "\t}\n",
    "}\n",
    "main()"
   ]
  },
  {
   "cell_type": "code",
   "execution_count": null,
   "metadata": {},
   "outputs": [],
   "source": [
    "package main\n",
    "import \"fmt\"\n",
    "\n",
    "func main() {\n",
    "\tvar s string = \"some_string_another_one\"\n",
    "\t\n",
    "\tif s == \"some_string\" {\n",
    "\t\tfmt.Println(\"Ok\")\n",
    "\t}else if s == \"some_string_another\" {\n",
    "\t\tfmt.Println(\"Ok another\")\n",
    "\t}else if s == \"some_string_another_one\" {\n",
    "\t\tfmt.Println(\"Ok another one\")\n",
    "\t}else {\n",
    "\t\tfmt.Println(\"Neither\")\n",
    "\t}\n",
    "}\n",
    "main()"
   ]
  },
  {
   "attachments": {},
   "cell_type": "markdown",
   "metadata": {},
   "source": [
    "## Good Test Example"
   ]
  },
  {
   "cell_type": "code",
   "execution_count": null,
   "metadata": {},
   "outputs": [],
   "source": [
    "import \"fmt\"\n",
    "\n",
    "func main() {\n",
    "\tvar a, b string = \"foo\", \"bar\"\n",
    "\tif a+b == \"foo\" {\n",
    "\t\t\t\t\tfmt.Println(\"foo\")\n",
    "\t} else if a+b == \"bar\" {\n",
    "\t\t\t\t\tfmt.Println(\"bar\")\n",
    "\t} else if a+b == \"foobar\" {\n",
    "\t\t\t\t\tfmt.Println(\"foobar\")\n",
    "\t} else {\n",
    "\t\t\t\t\tfmt.Println(\"None matched\")\n",
    "\t}\n",
    "\tfmt.Println(\"thank you!\")\n",
    "\n",
    "}\n",
    "main()"
   ]
  }
 ],
 "metadata": {
  "kernelspec": {
   "display_name": "Go",
   "language": "go",
   "name": "gophernotes"
  },
  "language_info": {
   "codemirror_mode": "",
   "file_extension": ".go",
   "mimetype": "",
   "name": "go",
   "nbconvert_exporter": "",
   "pygments_lexer": "",
   "version": "go1.20.1"
  }
 },
 "nbformat": 4,
 "nbformat_minor": 2
}
