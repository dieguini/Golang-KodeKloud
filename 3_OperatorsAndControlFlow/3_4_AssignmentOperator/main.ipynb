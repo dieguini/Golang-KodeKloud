{
 "cells": [
  {
   "attachments": {},
   "cell_type": "markdown",
   "metadata": {},
   "source": [
    "# Assignment Operators"
   ]
  },
  {
   "attachments": {},
   "cell_type": "markdown",
   "metadata": {},
   "source": [
    "## Assing\n",
    "\n",
    " `=`"
   ]
  },
  {
   "cell_type": "code",
   "execution_count": null,
   "metadata": {},
   "outputs": [],
   "source": [
    "package main\n",
    "import \"fmt\"\n",
    "\n",
    "func main() {\n",
    "\tvar x int = 10\n",
    "\tvar y int\n",
    "\ty = x\n",
    "\tfmt.Printf(\"x value: %v \\n\", x)\n",
    "\tfmt.Printf(\"y value: %v\", y)\n",
    "}\n",
    "\n",
    "main()"
   ]
  },
  {
   "attachments": {},
   "cell_type": "markdown",
   "metadata": {},
   "source": [
    "## Add and assign\n",
    "\n",
    "`+=`"
   ]
  },
  {
   "cell_type": "code",
   "execution_count": null,
   "metadata": {},
   "outputs": [],
   "source": [
    "package main\n",
    "import \"fmt\"\n",
    "\n",
    "func main() {\n",
    "\tvar x, y int = 10, 20\n",
    "\ty += x\n",
    "\tfmt.Println(\"THE ADD AND ASSIGN WAY\")\n",
    "\tfmt.Printf(\"x value: %v \\n\", x)\n",
    "\tfmt.Printf(\"y value: %v \\n\\n\", y)\n",
    "\t\n",
    "\tfmt.Println(\"THE PRO WAY\")\n",
    "\tx, y = 11, 21\n",
    "\ty = y + x\n",
    "\tfmt.Printf(\"x value: %v \\n\", x)\n",
    "\tfmt.Printf(\"y value: %v \\n\", y)\n",
    "}\n",
    "main()"
   ]
  },
  {
   "attachments": {},
   "cell_type": "markdown",
   "metadata": {},
   "source": [
    "## Substract and assign\n",
    "\n",
    "`-=`"
   ]
  },
  {
   "cell_type": "code",
   "execution_count": null,
   "metadata": {},
   "outputs": [],
   "source": [
    "package main\n",
    "import \"fmt\"\n",
    "\n",
    "func main() {\n",
    "\tvar x, y int = 10, 20\n",
    "\ty -= x\n",
    "\tfmt.Println(\"THE ADD AND ASSIGN WAY\")\n",
    "\tfmt.Printf(\"x value: %v \\n\", x)\n",
    "\tfmt.Printf(\"y value: %v \\n\\n\", y)\n",
    "\t\n",
    "\tfmt.Println(\"THE PRO WAY\")\n",
    "\tx, y = 11, 21\n",
    "\ty = y - x\n",
    "\tfmt.Printf(\"x value: %v \\n\", x)\n",
    "\tfmt.Printf(\"y value: %v \\n\", y)\n",
    "}\n",
    "main()"
   ]
  },
  {
   "attachments": {},
   "cell_type": "markdown",
   "metadata": {},
   "source": [
    "## Multiply and assign\n",
    "\n",
    "`*=`"
   ]
  },
  {
   "cell_type": "code",
   "execution_count": null,
   "metadata": {},
   "outputs": [],
   "source": [
    "package main\n",
    "import \"fmt\"\n",
    "\n",
    "func main() {\n",
    "\tvar x, y int = 10, 20\n",
    "\ty *= x\n",
    "\tfmt.Println(\"THE ADD AND ASSIGN WAY\")\n",
    "\tfmt.Printf(\"x value: %v \\n\", x)\n",
    "\tfmt.Printf(\"y value: %v \\n\\n\", y)\n",
    "\t\n",
    "\tfmt.Println(\"THE PRO WAY\")\n",
    "\tx, y = 10, 20\n",
    "\ty = y * x\n",
    "\tfmt.Printf(\"x value: %v \\n\", x)\n",
    "\tfmt.Printf(\"y value: %v \\n\", y)\n",
    "}\n",
    "main()"
   ]
  },
  {
   "attachments": {},
   "cell_type": "markdown",
   "metadata": {},
   "source": [
    "## Divide and assign\n",
    "\n",
    "`/=`"
   ]
  },
  {
   "cell_type": "code",
   "execution_count": null,
   "metadata": {},
   "outputs": [],
   "source": [
    "package main\n",
    "import \"fmt\"\n",
    "\n",
    "func main() {\n",
    "\tvar x, y int = 9, 20\n",
    "\ty /= x\n",
    "\tfmt.Println(\"THE ADD AND ASSIGN WAY\")\n",
    "\tfmt.Printf(\"x value: %d \\n\", x)\n",
    "\tfmt.Printf(\"y value: %d \\n\\n\", y)\n",
    "\t\n",
    "\tfmt.Println(\"THE PRO WAY\")\n",
    "\tx, y = 10, 20\n",
    "\ty = y / x\n",
    "\tfmt.Printf(\"x value: %d \\n\", x)\n",
    "\tfmt.Printf(\"y value: %d \\n\", y)\n",
    "}\n",
    "main()"
   ]
  },
  {
   "attachments": {},
   "cell_type": "markdown",
   "metadata": {},
   "source": [
    "## Divide and module\n",
    "\n",
    "`%=`"
   ]
  },
  {
   "cell_type": "code",
   "execution_count": null,
   "metadata": {},
   "outputs": [],
   "source": [
    "package main\n",
    "import \"fmt\"\n",
    "\n",
    "func main() {\n",
    "\tvar x, y int = 11, 20\n",
    "\ty %= x\n",
    "\tfmt.Println(\"THE ADD AND ASSIGN WAY\")\n",
    "\tfmt.Printf(\"x value: %d \\n\", x)\n",
    "\tfmt.Printf(\"y value: %d \\n\\n\", y)\n",
    "\t\n",
    "\tfmt.Println(\"THE PRO WAY\")\n",
    "\tx, y = 10, 20\n",
    "\ty = y % x\n",
    "\tfmt.Printf(\"x value: %d \\n\", x)\n",
    "\tfmt.Printf(\"y value: %d \\n\", y)\n",
    "}\n",
    "main()"
   ]
  },
  {
   "attachments": {},
   "cell_type": "markdown",
   "metadata": {},
   "source": [
    "## More Examples\n",
    "\n",
    "Here are more interesting examples to test"
   ]
  },
  {
   "cell_type": "code",
   "execution_count": null,
   "metadata": {},
   "outputs": [],
   "source": [
    "package main\n",
    "\n",
    "import \"fmt\"\n",
    "\n",
    "func main() {\n",
    "        var x, y string = \"foo\",\"bar\"\n",
    "        x += y\n",
    "        fmt.Println(x)\n",
    "}\n",
    "main()"
   ]
  },
  {
   "cell_type": "code",
   "execution_count": null,
   "metadata": {},
   "outputs": [],
   "source": [
    "package main\n",
    "\n",
    "import \"fmt\"\n",
    "\n",
    "func main() {\n",
    "        var x, y int = 100,9\n",
    "        x /= y\n",
    "        fmt.Println(x)\n",
    "        x %= y\n",
    "        fmt.Println(x)\n",
    "}\n",
    "main()"
   ]
  },
  {
   "cell_type": "code",
   "execution_count": null,
   "metadata": {},
   "outputs": [],
   "source": [
    "package main\n",
    "\n",
    "import \"fmt\"\n",
    "\n",
    "func main() {\n",
    "        var x, y float64 = 27.9, 7.0\n",
    "        x -= y\n",
    "        fmt.Println(x)\n",
    "        x += y\n",
    "        fmt.Println(x)\n",
    "}\n",
    "main()"
   ]
  }
 ],
 "metadata": {
  "kernelspec": {
   "display_name": "Go",
   "language": "go",
   "name": "gophernotes"
  },
  "language_info": {
   "codemirror_mode": "",
   "file_extension": ".go",
   "mimetype": "",
   "name": "go",
   "nbconvert_exporter": "",
   "pygments_lexer": "",
   "version": "go1.20.1"
  }
 },
 "nbformat": 4,
 "nbformat_minor": 2
}
