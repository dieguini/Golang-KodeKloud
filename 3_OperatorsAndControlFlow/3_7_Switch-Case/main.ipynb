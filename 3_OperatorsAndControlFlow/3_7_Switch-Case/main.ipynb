{
 "cells": [
  {
   "attachments": {},
   "cell_type": "markdown",
   "metadata": {},
   "source": [
    "# Switch-Case"
   ]
  },
  {
   "attachments": {},
   "cell_type": "markdown",
   "metadata": {},
   "source": [
    "## Swicth Statement"
   ]
  },
  {
   "cell_type": "code",
   "execution_count": null,
   "metadata": {},
   "outputs": [],
   "source": [
    "package main\n",
    "import \"fmt\"\n",
    "\n",
    "func main(){\n",
    "\tvar val int = 100 \n",
    "\tswitch val {\n",
    "\t\tcase 10:\n",
    "\t\t\tfmt.Println(\"val is 10\")\n",
    "\t\tcase 100, 120:\n",
    "\t\t\tfmt.Println(\"val is 100 or 120\")\n",
    "\t\tdefault:\n",
    "\t\t\tfmt.Println(\"Was not found (10 nor 100 nor 120)\")\n",
    "\t}\n",
    "}\n",
    "main()"
   ]
  },
  {
   "attachments": {},
   "cell_type": "markdown",
   "metadata": {},
   "source": [
    "## Fallthrough\n",
    "\n",
    "`fallthough`\n",
    "\n",
    "Obliga a que se ejecute el otro case"
   ]
  },
  {
   "cell_type": "code",
   "execution_count": null,
   "metadata": {},
   "outputs": [],
   "source": [
    "package main\n",
    "import \"fmt\"\n",
    "\n",
    "func main() {\n",
    "\tvar val int = 100\n",
    "\tswitch val {\n",
    "\t\tcase -3:\n",
    "\t\t\tfmt.Println(\"It is -3\")\n",
    "\t\tcase 100, 120:\n",
    "\t\t\tfmt.Println(\"It is 100 or 120\")\n",
    "\t\t\tfallthrough\n",
    "\t\tcase 20:\n",
    "\t\t\tfmt.Println(\"It is 20 or is fallthrough 100 and 120\")\n",
    "\t\t\tfallthrough\n",
    "\t\tdefault:\n",
    "\t\t\tfmt.Println(\"No found or fallthrough all above\")\n",
    "\t}\n",
    "}\n",
    "main()"
   ]
  },
  {
   "attachments": {},
   "cell_type": "markdown",
   "metadata": {},
   "source": [
    "## Switch with conditions"
   ]
  },
  {
   "cell_type": "code",
   "execution_count": null,
   "metadata": {},
   "outputs": [],
   "source": [
    "package main\n",
    "import \"fmt\"\n",
    "\n",
    "func main() {\n",
    "\tvar a, b int = 10, 20\n",
    "\tswitch {\n",
    "\t\tcase a+b == 30:\n",
    "\t\t\tfmt.Printf(\"%d + %d = 30 :)\", a, b)\n",
    "\t\tcase a+b <= 30:\n",
    "\t\t\tfmt.Printf(\"%d + %d = 30 :)\", a, b)\n",
    "\t\tdefault:\n",
    "\t\t\tfmt.Println(\"More than 30\", a, b)\n",
    "\t}\n",
    "}\n",
    "main()"
   ]
  },
  {
   "attachments": {},
   "cell_type": "markdown",
   "metadata": {},
   "source": [
    "## Examples"
   ]
  },
  {
   "attachments": {},
   "cell_type": "markdown",
   "metadata": {},
   "source": [
    "### Error\n",
    "\n",
    "Here is an error example"
   ]
  },
  {
   "cell_type": "code",
   "execution_count": null,
   "metadata": {},
   "outputs": [],
   "source": [
    "package main\n",
    "\n",
    "import \"fmt\"\n",
    "\n",
    "func main() {\n",
    "\tvar a, b = 100, 5\n",
    "\tswitch a {\n",
    "\tcase a/b == 10:\n",
    "\t\t\t\t\tfmt.Println(\"10\")\n",
    "\tcase a/b == 20:\n",
    "\t\t\t\t\tfmt.Println(\"20\")\n",
    "\tcase a/b == 10:\n",
    "\t\t\t\t\tfmt.Println(\"30\")\n",
    "\tdefault:\n",
    "\t\t\t\t\tfmt.Println(\"default\")\n",
    "\t}\n",
    "\n",
    "}\n",
    "main()"
   ]
  }
 ],
 "metadata": {
  "kernelspec": {
   "display_name": "Go",
   "language": "go",
   "name": "gophernotes"
  },
  "language_info": {
   "codemirror_mode": "",
   "file_extension": ".go",
   "mimetype": "",
   "name": "go",
   "nbconvert_exporter": "",
   "pygments_lexer": "",
   "version": "go1.20.1"
  }
 },
 "nbformat": 4,
 "nbformat_minor": 2
}
