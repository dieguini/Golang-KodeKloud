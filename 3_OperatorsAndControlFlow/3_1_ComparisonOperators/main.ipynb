{
 "cells": [
  {
   "attachments": {},
   "cell_type": "markdown",
   "metadata": {},
   "source": [
    "# Comparison Operator\n",
    "\n",
    "- Comparar y devolver `bool`\n",
    "- Permite comparar del mismo tipo, si no envia _error_"
   ]
  },
  {
   "attachments": {},
   "cell_type": "markdown",
   "metadata": {},
   "source": [
    "## Equal\n",
    "\n",
    "`==`"
   ]
  },
  {
   "cell_type": "code",
   "execution_count": null,
   "metadata": {},
   "outputs": [],
   "source": [
    "package main\n",
    "import \"fmt\"\n",
    "\n",
    "func main() {\n",
    "\tvar name string = \"Diego\"\n",
    "\tvar second_name string = \"Diego\"\n",
    "\tfmt.Println(name == second_name)\n",
    "}\n",
    "\n",
    "main()"
   ]
  },
  {
   "attachments": {},
   "cell_type": "markdown",
   "metadata": {},
   "source": [
    "## Not Equal\n",
    "\n",
    "`!=`"
   ]
  },
  {
   "cell_type": "code",
   "execution_count": null,
   "metadata": {},
   "outputs": [],
   "source": [
    "package main\n",
    "import \"fmt\"\n",
    "\n",
    "func main() {\n",
    "\tvar name string = \"Diego\"\n",
    "\tvar second_name string = \"Diego Another\"\n",
    "\tfmt.Println(name != second_name)\n",
    "}\n",
    "\n",
    "main()"
   ]
  },
  {
   "attachments": {},
   "cell_type": "markdown",
   "metadata": {},
   "source": [
    "## Less than\n",
    "\n",
    "`<`"
   ]
  },
  {
   "cell_type": "code",
   "execution_count": null,
   "metadata": {},
   "outputs": [],
   "source": [
    "package main\n",
    "import \"fmt\"\n",
    "\n",
    "func main() {\n",
    "\tvar num1 int = 5\n",
    "\tvar num2 int = 6\n",
    "\tfmt.Println(num1 < num2)\n",
    "}\n",
    "\n",
    "main()"
   ]
  },
  {
   "attachments": {},
   "cell_type": "markdown",
   "metadata": {},
   "source": [
    "## Less than or equal to\n",
    "\n",
    "`<=`"
   ]
  },
  {
   "cell_type": "code",
   "execution_count": null,
   "metadata": {},
   "outputs": [],
   "source": [
    "package main\n",
    "import \"fmt\"\n",
    "\n",
    "func main() {\n",
    "\tvar num1 int = 5\n",
    "\tvar num2 int = 6\n",
    "\tfmt.Println(num1 <= num2)\n",
    "\n",
    "\tvar num3 int = 7\n",
    "\tvar num4 int = 7\n",
    "\tfmt.Println(num3 <= num3)\n",
    "}\n",
    "\n",
    "main()"
   ]
  },
  {
   "attachments": {},
   "cell_type": "markdown",
   "metadata": {},
   "source": [
    "## Greater than\n",
    "\n",
    "`>`"
   ]
  },
  {
   "cell_type": "code",
   "execution_count": null,
   "metadata": {},
   "outputs": [],
   "source": [
    "package main\n",
    "import \"fmt\"\n",
    "\n",
    "func main() {\n",
    "\tvar num1 int = 9\n",
    "\tvar num2 int = 8\n",
    "\tfmt.Println(num1 > num2)\n",
    "}\n",
    "\n",
    "main()"
   ]
  },
  {
   "attachments": {},
   "cell_type": "markdown",
   "metadata": {},
   "source": [
    "## Greater than or equal to\n",
    "\n",
    "`>=`"
   ]
  },
  {
   "cell_type": "code",
   "execution_count": null,
   "metadata": {},
   "outputs": [],
   "source": [
    "package main\n",
    "import \"fmt\"\n",
    "\n",
    "func main() {\n",
    "\tvar num1 int = 6\n",
    "\tvar num2 int = 5\n",
    "\tfmt.Println(num1 >= num2)\n",
    "\n",
    "\tvar num3 int = 7\n",
    "\tvar num4 int = 7\n",
    "\tfmt.Println(num3 >= num3)\n",
    "}\n",
    "\n",
    "main()"
   ]
  }
 ],
 "metadata": {
  "kernelspec": {
   "display_name": "Go",
   "language": "go",
   "name": "gophernotes"
  },
  "language_info": {
   "codemirror_mode": "",
   "file_extension": ".go",
   "mimetype": "",
   "name": "go",
   "nbconvert_exporter": "",
   "pygments_lexer": "",
   "version": "go1.20.1"
  }
 },
 "nbformat": 4,
 "nbformat_minor": 2
}
