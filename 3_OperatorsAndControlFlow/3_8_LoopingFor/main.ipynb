{
 "cells": [
  {
   "cell_type": "markdown",
   "metadata": {},
   "source": [
    "# Looping-For"
   ]
  },
  {
   "cell_type": "markdown",
   "metadata": {},
   "source": [
    "## Syntax\n",
    "\n",
    "```go\n",
    "for initialization; condition; post {\n",
    "\t//statements\n",
    "}\n",
    "```\n",
    "\n",
    "- **initialization** _(Opcional)_: Se ejecuta antes de que comience el loop \n",
    "- **condition**: Mientras se cumpla\n",
    "- **post** _(Opcional)_: En cada iteracion se ejecuta"
   ]
  },
  {
   "attachments": {},
   "cell_type": "markdown",
   "metadata": {},
   "source": [
    "## Normal"
   ]
  },
  {
   "cell_type": "code",
   "execution_count": null,
   "metadata": {},
   "outputs": [],
   "source": [
    "package main\n",
    "import \"fmt\"\n",
    "\n",
    "func main(){\n",
    "    fmt.Println(\"One way\")\n",
    "    for i := 1; i <= 3 ; i++ {\n",
    "        fmt.Println(i*i)\n",
    "    }\n",
    "    fmt.Println(\"Anothr way\")\n",
    "    i := 1\n",
    "    for i <= 3 {\n",
    "        fmt.Println(i*i)\n",
    "        i++\n",
    "    }\n",
    "}\n",
    "main()"
   ]
  },
  {
   "attachments": {},
   "cell_type": "markdown",
   "metadata": {},
   "source": [
    "## Break and Continue"
   ]
  },
  {
   "attachments": {},
   "cell_type": "markdown",
   "metadata": {},
   "source": [
    "### Break\n",
    "\n",
    "\"Rompe\" loop cuando encuentra coincidencia"
   ]
  },
  {
   "cell_type": "code",
   "execution_count": null,
   "metadata": {},
   "outputs": [],
   "source": [
    "package main\n",
    "import \"fmt\"\n",
    "\n",
    "func main() {\n",
    "\tfor i := 1; i <= 5; i++ {\n",
    "\t\tif i == 3 {\n",
    "\t\t\tbreak\n",
    "\t\t}\n",
    "\t\tfmt.Println(i)\n",
    "\t}\n",
    "}\n",
    "main()"
   ]
  },
  {
   "attachments": {},
   "cell_type": "markdown",
   "metadata": {},
   "source": [
    "### Continue\n",
    "\n",
    "\"Skip\" la iteracion cuando encuentra coincidencia"
   ]
  },
  {
   "cell_type": "code",
   "execution_count": null,
   "metadata": {},
   "outputs": [],
   "source": [
    "package main\n",
    "import \"fmt\"\n",
    "\n",
    "func main() {\n",
    "\tfor i := 1; i <= 5; i++ {\n",
    "\t\tif i == 3 {\n",
    "\t\t\tcontinue\n",
    "\t\t}\n",
    "\t\tfmt.Println(i)\n",
    "\t}\n",
    "}\n",
    "main()"
   ]
  }
 ],
 "metadata": {
  "kernelspec": {
   "display_name": "Go",
   "language": "go",
   "name": "gophernotes"
  },
  "language_info": {
   "codemirror_mode": "",
   "file_extension": ".go",
   "mimetype": "",
   "name": "go",
   "nbconvert_exporter": "",
   "pygments_lexer": "",
   "version": "go1.20.1"
  }
 },
 "nbformat": 4,
 "nbformat_minor": 2
}
