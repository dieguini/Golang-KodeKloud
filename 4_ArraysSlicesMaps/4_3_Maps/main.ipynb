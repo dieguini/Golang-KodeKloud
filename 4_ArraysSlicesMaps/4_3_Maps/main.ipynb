{
 "cells": [
  {
   "attachments": {},
   "cell_type": "markdown",
   "metadata": {},
   "source": [
    "# Maps\n",
    "\n",
    "- Coleccion desordenada de key/value\n",
    "- Implementado por \"hash\" tables\n",
    "- Eficiente en operaciones:\n",
    "    - Obtener\n",
    "    - Agregar\n",
    "    - Eliminar\n"
   ]
  },
  {
   "attachments": {},
   "cell_type": "markdown",
   "metadata": {},
   "source": [
    "## Syntaxis\n",
    "\n",
    "```go\n",
    "var <map_name> map [<key_data_type>]<value_data_type>\n",
    "```\n",
    "\n",
    "## Declaracion\n",
    "\n",
    "```go\n",
    "var my_map = map[string]int\n",
    "```\n",
    "\n",
    "**NOTA**: nil es el valor cero de un mapa"
   ]
  },
  {
   "cell_type": "code",
   "execution_count": null,
   "metadata": {},
   "outputs": [],
   "source": [
    "package main\n",
    "import \"fmt\"\n",
    "\n",
    "func main() {\n",
    "\tvar codes map[string]string\n",
    "\t//codes[\"en\"] = \"English\"  //panic: assignment to entry in nil map\n",
    "}\n",
    "main()"
   ]
  },
  {
   "attachments": {},
   "cell_type": "markdown",
   "metadata": {},
   "source": [
    "## Mapas valores\n",
    "\n",
    "Crear mapas con valores\n",
    "\n",
    "### Syntaxis\n",
    "\n",
    "```go\n",
    "<map_name> := map [<key_data_type>]<value_data_type>{<key-value-pairs>}\n",
    "```\n",
    "\n",
    "### Declaracion\n",
    "\n",
    "```go\n",
    "my_map := map[string]string{\"en\":\"English\", \"fr\":\"French\"}\n",
    "```"
   ]
  },
  {
   "cell_type": "code",
   "execution_count": null,
   "metadata": {},
   "outputs": [],
   "source": [
    "package main\n",
    "import \"fmt\"\n",
    "\n",
    "func main() {\n",
    "\tmy_map := map[string]string{\"en\":\"English\", \"fr\":\"French\"}\n",
    "\tfmt.Println(my_map) //map[en:English fr:French]\n",
    "}\n",
    "main()"
   ]
  },
  {
   "attachments": {},
   "cell_type": "markdown",
   "metadata": {},
   "source": [
    "## Make function\n",
    "\n",
    "### Syntaxis\n",
    "\n",
    "```go\n",
    "<map_name> := make(map[<key_data_type>]<value_data_type>, <initial_capacity>)\n",
    "```\n",
    "\n",
    "- **initial_capacity**: Opcional\n",
    "\n",
    "### Declaracion\n",
    "\n",
    "```go\n",
    "codes := make(map[string]string)\n",
    "```"
   ]
  },
  {
   "cell_type": "code",
   "execution_count": null,
   "metadata": {},
   "outputs": [],
   "source": [
    "package main\n",
    "import \"fmt\"\n",
    "\n",
    "func main() {\n",
    "\tcodes := make(map[string]string)\n",
    "\tfmt.Println(codes) //map[]\n",
    "\n",
    "\tanother_codes := make(map[string]string, 10)\n",
    "\tfmt.Println(another_codes) //map[]\n",
    "}\n",
    "main()"
   ]
  },
  {
   "attachments": {},
   "cell_type": "markdown",
   "metadata": {},
   "source": [
    "## Functions\n",
    "\n",
    "### len\n",
    "\n",
    "`len()`\n",
    "\n",
    "### Accesar\n",
    "\n",
    "`map[key]`\n",
    "\n",
    "```go\n",
    "value, found = map[key]\n",
    "```\n",
    "\n",
    "- **found**: (Opcional) bool (se encontro)\n",
    "\n",
    "### Agregar y Actualizar\n",
    "\n",
    "```go\n",
    "map[key] = value\n",
    "```\n",
    "\n",
    "### Eliminar\n",
    "\n",
    "```go\n",
    "delete(map, key_name)\n",
    "```"
   ]
  },
  {
   "cell_type": "code",
   "execution_count": null,
   "metadata": {},
   "outputs": [],
   "source": [
    "package main \n",
    "import \"fmt\"\n",
    "\n",
    "func main() {\n",
    "\tnums := map[string]int{\"one\": 1, \"two\": 2, \"three\": 3}\n",
    "\tfmt.Println(nums, \"len:\", len(nums)) //map[one:1 three:3 two:2] len: 3\n",
    "\tval, foun := nums[\"two\"]\n",
    "\tfmt.Println(val, foun) //2 true\n",
    "\tval, foun := nums[\"six\"]\n",
    "\tfmt.Println(val, foun) //0 false\n",
    "\n",
    "\t// Agregar y Actualizar\n",
    "\tnums[\"four\"] = 4\n",
    "\tfmt.Println(nums, \"len:\", len(nums)) //map[four:4 one:1 three:3 two:2] len: 4\n",
    "\tnums[\"four\"] = 4444\n",
    "\tfmt.Println(nums) //map[four:4444 one:1 three:3 two:2]\n",
    "\n",
    "\t// Eliminar\n",
    "\tdelete(nums, \"four\")\n",
    "\t\n",
    "\tfmt.Println(nums) //map[one:1 three:3 two:2]\n",
    "}\n",
    "main()"
   ]
  },
  {
   "attachments": {},
   "cell_type": "markdown",
   "metadata": {},
   "source": [
    "## Loop"
   ]
  },
  {
   "cell_type": "code",
   "execution_count": null,
   "metadata": {},
   "outputs": [],
   "source": [
    "package main \n",
    "import \"fmt\"\n",
    "\n",
    "func main() {\n",
    "\tnums := map[string]int{\"one\": 1, \"two\": 2, \"three\": 3}\n",
    "\tfor key, value := range nums{\n",
    "\t\tfmt.Println(key,\"=>\",value)\n",
    "\t}\n",
    "}\n",
    "main()"
   ]
  },
  {
   "attachments": {},
   "cell_type": "markdown",
   "metadata": {},
   "source": [
    "## Truncate\n",
    "\n",
    "Eliminar todo\n",
    "\n",
    "- Iteracion uno por uno\n",
    "- Reinicializacion con `make()`"
   ]
  },
  {
   "cell_type": "code",
   "execution_count": null,
   "metadata": {},
   "outputs": [],
   "source": [
    "package main \n",
    "import \"fmt\"\n",
    "\n",
    "func main() {\n",
    "\t// Eliminar con iteracion\n",
    "\tnums := map[string]int{\"one\": 1, \"two\": 2, \"three\": 3}\n",
    "\tfor key, value := range nums{\n",
    "\t\tdelete(nums, key)\n",
    "\t}\n",
    "\tfmt.Println(nums) //map[]\n",
    "\tnums := map[string]int{\"one\": 1, \"two\": 2, \"three\": 3}\n",
    "\t// Eliminar reiniciando\n",
    "\t\n",
    "\tnums = make(map[string]int)\n",
    "\tfmt.Println(nums) //map[]\n",
    "}\n",
    "main()"
   ]
  },
  {
   "attachments": {},
   "cell_type": "markdown",
   "metadata": {},
   "source": [
    "## Extras\n",
    "\n",
    "### Extra - Value of found?\n",
    "\n",
    "<ins>Result</ins>\n",
    "\n",
    "Prints nothing"
   ]
  },
  {
   "cell_type": "code",
   "execution_count": null,
   "metadata": {},
   "outputs": [],
   "source": [
    "package main\n",
    "\n",
    "import \"fmt\"\n",
    "\n",
    "func main() {\n",
    "\tascii_codes := map[string]int{}\n",
    "\tascii_codes[\"A\"] = 65\n",
    "\t_, found := ascii_codes[\"B\"]\n",
    "\tif found {\n",
    "\t\tfmt.Println(\"key B was not found\")\n",
    "\t}\n",
    "}\n",
    "main()"
   ]
  }
 ],
 "metadata": {
  "kernelspec": {
   "display_name": "Go",
   "language": "go",
   "name": "gophernotes"
  },
  "language_info": {
   "codemirror_mode": "",
   "file_extension": ".go",
   "mimetype": "",
   "name": "go",
   "nbconvert_exporter": "",
   "pygments_lexer": "",
   "version": "go1.20.1"
  }
 },
 "nbformat": 4,
 "nbformat_minor": 2
}
