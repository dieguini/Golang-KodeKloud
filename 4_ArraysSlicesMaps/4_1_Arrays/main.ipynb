{
 "cells": [
  {
   "attachments": {},
   "cell_type": "markdown",
   "metadata": {},
   "source": [
    "# Arrays\n",
    "\n",
    "- Coleccion de datos\n",
    "- Mismo tipo de dato\n",
    "- Tamaño fijo\n",
    "\n",
    "|array elements:|1|2|3|4|5|\n",
    "|-|-|-|-|-|-|\n",
    "|memory address:|200|204|208|212|126\n",
    "||4 bytes|"
   ]
  },
  {
   "attachments": {},
   "cell_type": "markdown",
   "metadata": {},
   "source": [
    "## Syntaxis\n",
    "\n",
    "```go\n",
    "var <array name> [<size of>] <data type>\n",
    "```\n",
    "\n",
    "## Declaracion\n",
    "\n",
    "```go\n",
    "var numbers [5] int\n",
    "```"
   ]
  },
  {
   "cell_type": "code",
   "execution_count": null,
   "metadata": {},
   "outputs": [],
   "source": [
    "package main\n",
    "import \"fmt\"\n",
    "\n",
    "func main() {\n",
    "\tvar grades[5] int\n",
    "\tfmt.Println(grades)\n",
    "\tvar fruits[3] string\n",
    "\tfmt.Println(fruits)\n",
    "}\n",
    "main()"
   ]
  },
  {
   "attachments": {},
   "cell_type": "markdown",
   "metadata": {},
   "source": [
    "## Initialization"
   ]
  },
  {
   "cell_type": "code",
   "execution_count": null,
   "metadata": {},
   "outputs": [],
   "source": [
    "package main\n",
    "import \"fmt\"\n",
    "\n",
    "func main() {\n",
    "\t// Declaration\n",
    "\tvar grades[3] int = [3]int{10,20,30}\n",
    "\tfmt.Println(grades)\n",
    "\t// Short Declaration\n",
    "\tnumbers := [3]int{11,21,31}\n",
    "\tfmt.Println(numbers)\n",
    "\t// Elipsis\n",
    "\tvariables := [...]int{12,22,32}\n",
    "\tfmt.Println(variables)\n",
    "}\n",
    "main()"
   ]
  },
  {
   "cell_type": "code",
   "execution_count": null,
   "metadata": {},
   "outputs": [],
   "source": [
    "package main\n",
    "import \"fmt\"\n",
    "\n",
    "func main() {\n",
    "\t// Declaration\n",
    "\tvar fruits[2] string = [2]string{\"apples\", \"oranges\"}\n",
    "\tfmt.Println(fruits)\n",
    "\t// Short Declaration\n",
    "\tmarks := [3]int{11,21,31}\n",
    "\tfmt.Println(marks)\n",
    "\t// Elipsis\n",
    "\tnames := [...]string{\"Diego\", \"Ramiro\", \"Juan\", \"Camilo\"}\n",
    "\tfmt.Println(names)\n",
    "}\n",
    "main()"
   ]
  },
  {
   "attachments": {},
   "cell_type": "markdown",
   "metadata": {},
   "source": [
    "## len()\n",
    "\n",
    "Devuelve el tamaño del array"
   ]
  },
  {
   "cell_type": "code",
   "execution_count": null,
   "metadata": {},
   "outputs": [],
   "source": [
    "package main\n",
    "import \"fmt\"\n",
    "\n",
    "func main() {\n",
    "\tvar fruits[2] string = [2]string{\"apples\", \"oranges\"}\n",
    "\tfmt.Println(len(fruits))\n",
    "}\n",
    "main()"
   ]
  },
  {
   "attachments": {},
   "cell_type": "markdown",
   "metadata": {},
   "source": [
    "## Indexes\n",
    "\n",
    "|grades:|78|45|100|92|85|\n",
    "|-|-|-|-|-|-|\n",
    "|index:|0|1|2|3|4|"
   ]
  },
  {
   "cell_type": "code",
   "execution_count": null,
   "metadata": {},
   "outputs": [],
   "source": [
    "package main\n",
    "import \"fmt\"\n",
    "\n",
    "func main() {\n",
    "\tvar grades[3] int = [3]int{10,20,30}\n",
    "\tfmt.Println(grades[0])\n",
    "\tfmt.Println(grades[1])\n",
    "\tfmt.Println(grades[2])\n",
    "\tfmt.Println(grades[3]) // Error here (Out range)\n",
    "}\n",
    "main()"
   ]
  },
  {
   "cell_type": "code",
   "execution_count": null,
   "metadata": {},
   "outputs": [],
   "source": [
    "package main\n",
    "import \"fmt\"\n",
    "\n",
    "func main() {\n",
    "\tnames := [...]string{\"Diego\", \"Ramiro\", \"Juan\", \"Camilo\"}\n",
    "\tfmt.Println(names)\n",
    "\tnames[2] = \"Fabro\"\n",
    "\tfmt.Println(names)\n",
    "}\n",
    "main()"
   ]
  },
  {
   "attachments": {},
   "cell_type": "markdown",
   "metadata": {},
   "source": [
    "## Loop Array"
   ]
  },
  {
   "attachments": {},
   "cell_type": "markdown",
   "metadata": {},
   "source": [
    "### Commun"
   ]
  },
  {
   "cell_type": "code",
   "execution_count": null,
   "metadata": {},
   "outputs": [],
   "source": [
    "package main\n",
    "import \"fmt\"\n",
    "\n",
    "func main() {\n",
    "\tnames := [...]string{\"Diego\", \"Ramiro\", \"Juan\", \"Camilo\"}\n",
    "\tfor i := 0; i < len(names); i++ {\n",
    "\t\tfmt.Println(names[i])\n",
    "\t}\n",
    "}\n",
    "main()"
   ]
  },
  {
   "attachments": {},
   "cell_type": "markdown",
   "metadata": {},
   "source": [
    "### Range"
   ]
  },
  {
   "cell_type": "code",
   "execution_count": null,
   "metadata": {},
   "outputs": [],
   "source": [
    "package main\n",
    "import \"fmt\"\n",
    "\n",
    "func main() {\n",
    "\tnames := [...]string{\"Diego\", \"Ramiro\", \"Juan\", \"Camilo\"}\n",
    "\tfor index, element := range names {\n",
    "\t\tfmt.Println(index, \"=>\", element)\n",
    "\t}\n",
    "}\n",
    "main()"
   ]
  },
  {
   "attachments": {},
   "cell_type": "markdown",
   "metadata": {},
   "source": [
    "## Multidimensional Arrays\n",
    "\n",
    "|positions|0|1|\n",
    "|-|-|-|\n",
    "|0|2|4|\n",
    "|1|12|24|\n",
    "|2|19|78|\n",
    "\n",
    "<ins>Ejemplo</ins>\n",
    "\n",
    "> arr[0][0] => 2\n",
    "\n",
    "> arr[0][1] => 4\n",
    "\n",
    "> arr[1][0] => 12\n",
    "\n",
    "> arr[1][1] => 24\n",
    "\n",
    "> arr[2][0] => 19\n",
    "\n",
    "> arr[2][1] => 78\n"
   ]
  },
  {
   "cell_type": "code",
   "execution_count": null,
   "metadata": {},
   "outputs": [],
   "source": [
    "package main\n",
    "import \"fmt\"\n",
    "\n",
    "func main() {\n",
    "\tarr := [3][2]int{{2,4},{12,24},{19,78}}\n",
    "\tfmt.Println(arr[2][1])\n",
    "}\n",
    "main()"
   ]
  },
  {
   "attachments": {},
   "cell_type": "markdown",
   "metadata": {},
   "source": [
    "## Otros Ejemplos"
   ]
  },
  {
   "attachments": {},
   "cell_type": "markdown",
   "metadata": {},
   "source": [
    "### Error\n",
    "\n",
    "Debido a que es un array declarado como _string_ pero conformado por _int_"
   ]
  },
  {
   "cell_type": "code",
   "execution_count": null,
   "metadata": {},
   "outputs": [],
   "source": [
    "package main\n",
    "\n",
    "import \"fmt\"\n",
    "\n",
    "func main() {\n",
    "        arr := [...]string{1, 2, 3, 4, 5}\n",
    "        fmt.Println(arr)\n",
    "}"
   ]
  },
  {
   "attachments": {},
   "cell_type": "markdown",
   "metadata": {},
   "source": [
    "### Impresion booleanos - 1\n",
    "\n",
    "Resultado:\n",
    "\n",
    "0\n",
    "1\n",
    "2\n",
    "3"
   ]
  },
  {
   "cell_type": "code",
   "execution_count": null,
   "metadata": {},
   "outputs": [],
   "source": [
    "package main\n",
    "\n",
    "import \"fmt\"\n",
    "\n",
    "func main() {\n",
    "        arr := [5]bool{true, true, true, true}\n",
    "        for i := 0; i < len(arr); i++ {\n",
    "                if arr[i] {\n",
    "                        fmt.Println(i)\n",
    "                }\n",
    "        }\n",
    "}\n",
    "main()"
   ]
  },
  {
   "attachments": {},
   "cell_type": "markdown",
   "metadata": {},
   "source": [
    "### Impresion booleanos - 2\n",
    "\n",
    "Resultado:\n",
    "\n",
    "[true true false false false]"
   ]
  },
  {
   "cell_type": "code",
   "execution_count": null,
   "metadata": {},
   "outputs": [],
   "source": [
    "package main\n",
    "\n",
    "import \"fmt\"\n",
    "\n",
    "func main() {\n",
    "        arr := [5]bool{true, true}\n",
    "        fmt.Println(arr)\n",
    "}\n",
    "main()"
   ]
  }
 ],
 "metadata": {
  "kernelspec": {
   "display_name": "Go",
   "language": "go",
   "name": "gophernotes"
  },
  "language_info": {
   "codemirror_mode": "",
   "file_extension": ".go",
   "mimetype": "",
   "name": "go",
   "nbconvert_exporter": "",
   "pygments_lexer": "",
   "version": "go1.20.1"
  }
 },
 "nbformat": 4,
 "nbformat_minor": 2
}
