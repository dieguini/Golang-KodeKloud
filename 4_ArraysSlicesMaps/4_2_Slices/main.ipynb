{
 "cells": [
  {
   "attachments": {},
   "cell_type": "markdown",
   "metadata": {},
   "source": [
    "# Slices\n",
    "\n",
    "- Es un segmento de un array\n",
    "- Brinda acceso a partes de un array\n",
    "- Mas flexible y poderoso"
   ]
  },
  {
   "attachments": {},
   "cell_type": "markdown",
   "metadata": {},
   "source": [
    "## Componentes\n",
    "\n",
    "<ins>Array</ins>\n",
    "\n",
    "|array elements:|10|20|30|40|50|60|70|\n",
    "|-|-|-|-|-|-|-|-|\n",
    "|position:|0|1|2|3|4|5|6|\n",
    "\n",
    "<ins>Slice</ins>\n",
    "\n",
    "- Pointer: A donde apunta, variable que guarda direccion memoria\n",
    "- Length: Numero actual de elementos que contiene `len()`\n",
    "- Capacity: Es el número máximo de elementos que el slice puede contener `cap()`\n",
    "\n",
    "Para ejemplificar digamos que el pointer apunta a la _position_ 1\n",
    "\n",
    "|slice elements:| Pointer =  | Length = 5 | Capacity= 6 |\n",
    "|-|-|-|-|-|-|-|-|\n",
    "|position:|0|1|2|3|4|5|6|\n"
   ]
  },
  {
   "attachments": {},
   "cell_type": "markdown",
   "metadata": {},
   "source": [
    "## Syntaxis\n",
    "\n",
    "```go\n",
    "<slice_name> := []<data_type>{<values>}\n",
    "```\n",
    "\n",
    "## Declaracion\n",
    "\n",
    "```go\n",
    "grades := []int{10, 20, 30}\n",
    "```"
   ]
  },
  {
   "cell_type": "code",
   "execution_count": null,
   "metadata": {},
   "outputs": [],
   "source": [
    "package main\n",
    "import \"fmt\"\n",
    "\n",
    "func main() {\n",
    "\tslice := []int{5, 15, 25}\n",
    "\tfmt.Println(slice)\n",
    "}\n",
    "main()"
   ]
  },
  {
   "attachments": {},
   "cell_type": "markdown",
   "metadata": {},
   "source": [
    "## Slicing Array\n",
    "\n",
    "> array[start_index : end_index]\n",
    "\n",
    "<ins>Ejemplos</ins>\n",
    "\n",
    "|array elements:|10|20|30|40|50|60|70|80|90|\n",
    "|-|-|-|-|-|-|-|-|-|-|\n",
    "|position:|0|1|2|3|4|5|6|7|8|\n",
    "\n",
    "\n",
    "> array[0 : 3]\n",
    "\n",
    "{10, 20, 30}\n",
    "\n",
    "> array[1 : 6]\n",
    "\n",
    "{20, 30, 40, 50, 60 70}\n",
    "\n",
    "\n",
    "> array[ : 4]\n",
    "\n",
    "{10, 20, 30, 40}\n",
    "\n",
    "\n",
    "> array[ : ]\n",
    "\n",
    "{10, 20, 30, 40, 50, 60, 70, 80, 90}\n",
    "\n"
   ]
  },
  {
   "cell_type": "code",
   "execution_count": null,
   "metadata": {},
   "outputs": [],
   "source": [
    "package main\n",
    "import \"fmt\"\n",
    "\n",
    "func main() {\n",
    "\tarr := [9]int{10,20,30,40,50,60,70,80,90}\n",
    "\tslice_1 := arr[0:3]\n",
    "\tfmt.Println(slice_1, \"length:\", len(slice_1), \"capacity:\", cap(slice_1))\n",
    "\tslice_2 := arr[1:6]\n",
    "\tfmt.Println(slice_2, \"length:\", len(slice_2), \"capacity:\", cap(slice_2))\n",
    "\tslice_3 := arr[:4]\n",
    "\tfmt.Println(slice_3, \"length:\", len(slice_3), \"capacity:\", cap(slice_3))\n",
    "\tslice_4 := arr[:]\n",
    "\tfmt.Println(slice_4, \"length:\", len(slice_4), \"capacity:\", cap(slice_4))\n",
    "\tslice_5 := arr[2:6]\n",
    "\tfmt.Println(slice_5, \"length:\", len(slice_5), \"capacity:\", cap(slice_5))\n",
    "}\n",
    "main()"
   ]
  },
  {
   "attachments": {},
   "cell_type": "markdown",
   "metadata": {},
   "source": [
    "## Make function\n",
    "\n",
    "Another function to declare a slice\n",
    "\n",
    "### Syntax\n",
    "\n",
    "```go\n",
    "<slice_name> := make([]<data_type>, length, capacity)\n",
    "```\n",
    "\n",
    "### Declaration\n",
    "\n",
    "```go\n",
    "<slice_name> := make([]int, 5, 10)\n",
    "```"
   ]
  },
  {
   "cell_type": "code",
   "execution_count": null,
   "metadata": {},
   "outputs": [],
   "source": [
    "package main\n",
    "import \"fmt\"\n",
    "\n",
    "func main() {\n",
    "\tslice := make([]int, 5, 8)\n",
    "\tfmt.Println(slice)\n",
    "\tfmt.Println(len(slice))\n",
    "\tfmt.Println(cap(slice))\n",
    "}\n",
    "main()"
   ]
  },
  {
   "attachments": {},
   "cell_type": "markdown",
   "metadata": {},
   "source": [
    "## Slice and index\n",
    "\n",
    "Un _slice_ obtiene su propio _index_ pero apunta al mismo espacio de memoria que un _array_. Es decir, si cambias la algun valor en el slice el array se ve afectado "
   ]
  },
  {
   "cell_type": "code",
   "execution_count": null,
   "metadata": {},
   "outputs": [],
   "source": [
    "package main\n",
    "import \"fmt\"\n",
    "\n",
    "func main() {\n",
    "\tarr := [3]int{1,2,3}\n",
    "\tslc := arr[:]\n",
    "\tfmt.Println(\"Before change\")\n",
    "\tfmt.Println(arr) //[1 2 3]\n",
    "\tfmt.Println(slc) //[1 2 3]\n",
    "\n",
    "\tslc[2] = 800\n",
    "\tfmt.Println(\"After change\")\n",
    "\tfmt.Println(arr) //[1 2 800]\n",
    "\tfmt.Println(slc) //[1 2 800]\n",
    "}\n",
    "main()"
   ]
  },
  {
   "attachments": {},
   "cell_type": "markdown",
   "metadata": {},
   "source": [
    "## Append to slice\n",
    "\n",
    "### Syntax\n",
    "\n",
    "```go\n",
    "func append(s []T, vs ...T)[]T\n",
    "```\n",
    "\n",
    "- `s []T`: Slice the algun tipo de dato\n",
    "- `vs ...T`: Valores de ese tipo de dato\n",
    "- `[]T`: Resulta en un slice los valores mas el agregado\n",
    "\n",
    "### Declaration\n",
    "\n",
    "```go\n",
    "<slice_name> = append(<slice_name>, <element-1>, <element-2>)\n",
    "```\n",
    "\n",
    "<ins>Example</ins>\n",
    "\n",
    "```go\n",
    "slice = append(slice, 10, 20, 30)\n",
    "```"
   ]
  },
  {
   "cell_type": "code",
   "execution_count": null,
   "metadata": {},
   "outputs": [],
   "source": [
    "package main\n",
    "import \"fmt\"\n",
    "\n",
    "func main(){\n",
    "\tarr := [7]int{1,2,3,4,5}\n",
    "\tslc := arr[2:6]\n",
    "\tfmt.Println(arr, \"len:\", len(arr), \"cap:\", cap(arr))\n",
    "\tfmt.Println(slc, \"len:\", len(slc), \"cap:\", cap(slc))\n",
    "\n",
    "\tslc = append(slc, 988, -33, 20)\n",
    "\tfmt.Println(slc, \"len:\", len(slc), \"cap:\", cap(slc))\n",
    "}\n",
    "main()"
   ]
  },
  {
   "attachments": {},
   "cell_type": "markdown",
   "metadata": {},
   "source": [
    "### Append slice to slice\n",
    "\n",
    "```go\n",
    "slice = append(slice, another_slice...)\n",
    "```"
   ]
  },
  {
   "cell_type": "code",
   "execution_count": null,
   "metadata": {},
   "outputs": [],
   "source": [
    "package main\n",
    "import \"fmt\"\n",
    "\n",
    "func main() {\n",
    "\tarr := [...]int{1,2,3,4,5}\n",
    "\tslc := arr[:3]\n",
    "\tfmt.Println(arr) //[1 2 3 4 5]\n",
    "\tfmt.Println(slc) //[1 2 3]\n",
    "\n",
    "\tarr_2 := [...]int{11,22,33,44,55}\n",
    "\tslc_2 := arr_2[1:4]\n",
    "\tfmt.Println(arr_2) //[11 22 33 44 55]\n",
    "\tfmt.Println(slc_2) //[22 33 44]\n",
    "\n",
    "\tslc_app := append(slc, slc_2...)\n",
    "\tfmt.Println(slc_app) //[1 2 3 22 33 44]\n",
    "}\n",
    "main()"
   ]
  },
  {
   "attachments": {},
   "cell_type": "markdown",
   "metadata": {},
   "source": [
    "## Delete from slice"
   ]
  },
  {
   "cell_type": "code",
   "execution_count": null,
   "metadata": {},
   "outputs": [],
   "source": [
    "package main\n",
    "import \"fmt\"\n",
    "\n",
    "func main() {\n",
    "\tarr := [...]int{1,2,3,4,5}\n",
    "\ti := 2 // Delete position\n",
    "\tfmt.Println(arr) //[1 2 3 4 5]\n",
    "\n",
    "\tslc_1 := arr[:i]\n",
    "\tslc_2 := arr[i+1:]\n",
    "\tslc_app := append(slc_1, slc_2...)\n",
    "\tfmt.Println(slc_app) //[1 2 4 5]\n",
    "}\n",
    "main()"
   ]
  },
  {
   "attachments": {},
   "cell_type": "markdown",
   "metadata": {},
   "source": [
    "## Copy to slice\n",
    "\n",
    "### Syntax\n",
    "\n",
    "```go\n",
    "func copy(dst, src []Type) int\n",
    "```\n",
    "\n",
    "- `dst`: Slice destino\n",
    "- `src`: Slice origen\n",
    "- `int`: Devuelve el tamaño del minimo (_dst_ o _src_)\n",
    "\n",
    "### Declaration\n",
    "\n",
    "```go\n",
    "<num> := copy(<dest_slice>, <src_slice>)\n",
    "```\n",
    "\n",
    "<ins>Example</ins>\n",
    "\n",
    "```go\n",
    "value := copy(dst_slice, src_slice)\n",
    "```"
   ]
  },
  {
   "cell_type": "code",
   "execution_count": null,
   "metadata": {},
   "outputs": [],
   "source": [
    "package main\n",
    "import \"fmt\"\n",
    "\n",
    "func main() {\n",
    "\tsrc_slice := []int{1,2,3,4,5}\n",
    "\tdst_slice := make([]int, 3)\n",
    "\tfmt.Println(src_slice) //[1 2 3 4 5]\n",
    "\tfmt.Println(dst_slice) //[0 0 0]\n",
    "\n",
    "\tcopy(dst_slice, src_slice)\n",
    "\tfmt.Println(dst_slice) //[1 2 3]\n",
    "}\n",
    "main()"
   ]
  },
  {
   "attachments": {},
   "cell_type": "markdown",
   "metadata": {},
   "source": [
    "## Looping slice"
   ]
  },
  {
   "cell_type": "code",
   "execution_count": null,
   "metadata": {},
   "outputs": [],
   "source": [
    "package main\n",
    "import \"fmt\"\n",
    "\n",
    "func main() {\n",
    "\tslice := []int{1,2,3,4,5}\n",
    "\tfor index, value := range slice{\n",
    "\t\tfmt.Println(index, \"=>\", value)\n",
    "\t} \n",
    "\tfmt.Println(\"Also\")\n",
    "\tfor _, value := range slice{\n",
    "\t\tfmt.Println(value)\n",
    "\t} \n",
    "}\n",
    "main()"
   ]
  }
 ],
 "metadata": {
  "kernelspec": {
   "display_name": "Go",
   "language": "go",
   "name": "gophernotes"
  },
  "language_info": {
   "codemirror_mode": "",
   "file_extension": ".go",
   "mimetype": "",
   "name": "go",
   "nbconvert_exporter": "",
   "pygments_lexer": "",
   "version": "go1.20.1"
  }
 },
 "nbformat": 4,
 "nbformat_minor": 2
}
